{
 "cells": [
  {
   "cell_type": "markdown",
   "metadata": {},
   "source": [
    "# Gif web site links\n",
    "\n",
    "1. https://www.reactiongifs.us/tag/science/"
   ]
  },
  {
   "cell_type": "code",
   "execution_count": 6,
   "metadata": {
    "ExecuteTime": {
     "end_time": "2018-02-06T20:06:11.259272Z",
     "start_time": "2018-02-06T20:06:11.251018Z"
    }
   },
   "outputs": [],
   "source": [
    "link = 'https://www.reactiongifs.us/wp-content/uploads/2013/12/back_off_scientist_ghostbusters.gif'\n",
    "filename = link.split('/')[-1]\n",
    "ext = filename.split('.')[-1]"
   ]
  },
  {
   "cell_type": "code",
   "execution_count": 7,
   "metadata": {
    "ExecuteTime": {
     "end_time": "2018-02-06T20:06:14.728158Z",
     "start_time": "2018-02-06T20:06:12.694984Z"
    }
   },
   "outputs": [
    {
     "name": "stdout",
     "output_type": "stream",
     "text": [
      "--2018-02-06 23:06:12--  https://www.reactiongifs.us/wp-content/uploads/2013/12/back_off_scientist_ghostbusters.gif\n",
      "Resolving www.reactiongifs.us (www.reactiongifs.us)... 138.197.88.19\n",
      "Connecting to www.reactiongifs.us (www.reactiongifs.us)|138.197.88.19|:443... connected.\n",
      "HTTP request sent, awaiting response... 200 OK\n",
      "Length: 983866 (961K) [image/gif]\n",
      "Saving to: ‘back_off_scientist_ghostbusters.gif’\n",
      "\n",
      "100%[======================================>] 983.866      960KB/s   in 1,0s   \n",
      "\n",
      "2018-02-06 23:06:14 (960 KB/s) - ‘back_off_scientist_ghostbusters.gif’ saved [983866/983866]\n",
      "\n"
     ]
    }
   ],
   "source": [
    "#wget -e robots=off --wait 1\n",
    "!wget $link"
   ]
  },
  {
   "cell_type": "code",
   "execution_count": 8,
   "metadata": {
    "ExecuteTime": {
     "end_time": "2018-02-06T20:06:14.856638Z",
     "start_time": "2018-02-06T20:06:14.741518Z"
    }
   },
   "outputs": [
    {
     "name": "stdout",
     "output_type": "stream",
     "text": [
      "\u001b[01;34m.\u001b[00m\r\n",
      "├── \u001b[01;35mback_off_scientist_ghostbusters.gif\u001b[00m\r\n",
      "├── \u001b[01;35mbackTOtheFuture_skateboard.gif\u001b[00m\r\n",
      "├── sekil_indir.ipynb\r\n",
      "└── \u001b[01;35munder_construction.gif\u001b[00m\r\n",
      "\r\n",
      "0 directories, 4 files\r\n"
     ]
    }
   ],
   "source": [
    "!tree -L 1"
   ]
  },
  {
   "cell_type": "code",
   "execution_count": 70,
   "metadata": {
    "ExecuteTime": {
     "end_time": "2018-02-04T17:41:01.532099Z",
     "start_time": "2018-02-04T17:41:01.407827Z"
    }
   },
   "outputs": [],
   "source": [
    "!mv $filename LC_circuit.$ext"
   ]
  },
  {
   "cell_type": "code",
   "execution_count": 71,
   "metadata": {
    "ExecuteTime": {
     "end_time": "2018-02-04T17:41:02.299991Z",
     "start_time": "2018-02-04T17:41:02.177411Z"
    }
   },
   "outputs": [
    {
     "name": "stdout",
     "output_type": "stream",
     "text": [
      "\u001b[01;34m.\u001b[00m\r\n",
      "├── \u001b[01;35m2010_mavericks_competition.jpg\u001b[00m\r\n",
      "├── \u001b[01;35mbasit_harmonik_hareket.png\u001b[00m\r\n",
      "├── \u001b[01;35mbutterfly_pupa.jpg\u001b[00m\r\n",
      "├── \u001b[01;35mearth_vibration_mods.gif\u001b[00m\r\n",
      "├── \u001b[01;35mfetus_heartbeat.gif\u001b[00m\r\n",
      "├── \u001b[01;35mLC_circuit.gif\u001b[00m\r\n",
      "├── \u001b[01;35mneutron_star_vibrations.png\u001b[00m\r\n",
      "└── sekil_indir.ipynb\r\n",
      "\r\n",
      "0 directories, 8 files\r\n"
     ]
    }
   ],
   "source": [
    "!tree -L 1"
   ]
  },
  {
   "cell_type": "code",
   "execution_count": null,
   "metadata": {},
   "outputs": [],
   "source": []
  }
 ],
 "metadata": {
  "hide_input": false,
  "kernelspec": {
   "display_name": "Python 2",
   "language": "python",
   "name": "python2"
  },
  "language_info": {
   "codemirror_mode": {
    "name": "ipython",
    "version": 2
   },
   "file_extension": ".py",
   "mimetype": "text/x-python",
   "name": "python",
   "nbconvert_exporter": "python",
   "pygments_lexer": "ipython2",
   "version": "2.7.6"
  },
  "toc": {
   "collapse_to_match_collapsible_headings": false,
   "colors": {
    "hover_highlight": "#DAA520",
    "running_highlight": "#FF0000",
    "selected_highlight": "#FFD700"
   },
   "moveMenuLeft": true,
   "nav_menu": {
    "height": "12px",
    "width": "252px"
   },
   "navigate_menu": true,
   "number_sections": true,
   "sideBar": true,
   "threshold": 4,
   "toc_cell": false,
   "toc_section_display": "block",
   "toc_window_display": false
  },
  "varInspector": {
   "cols": {
    "lenName": 16,
    "lenType": 16,
    "lenVar": 40
   },
   "kernels_config": {
    "python": {
     "delete_cmd_postfix": "",
     "delete_cmd_prefix": "del ",
     "library": "var_list.py",
     "varRefreshCmd": "print(var_dic_list())"
    },
    "r": {
     "delete_cmd_postfix": ") ",
     "delete_cmd_prefix": "rm(",
     "library": "var_list.r",
     "varRefreshCmd": "cat(var_dic_list()) "
    }
   },
   "types_to_exclude": [
    "module",
    "function",
    "builtin_function_or_method",
    "instance",
    "_Feature"
   ],
   "window_display": false
  }
 },
 "nbformat": 4,
 "nbformat_minor": 2
}
