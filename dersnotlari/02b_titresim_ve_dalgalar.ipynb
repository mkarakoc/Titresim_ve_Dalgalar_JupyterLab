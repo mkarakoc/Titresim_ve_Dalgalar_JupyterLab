{
 "cells": [
  {
   "cell_type": "markdown",
   "metadata": {
    "toc": "true"
   },
   "source": [
    "<h1>İçindekiler<span class=\"tocSkip\"></span></h1>\n",
    "<div class=\"toc\"><ul class=\"toc-item\"><li><span><a href=\"#Çok-Serbestlik-Dereceli-Sistemlerin-Salınımları\" data-toc-modified-id=\"Çok-Serbestlik-Dereceli-Sistemlerin-Salınımları-1\"><span class=\"toc-item-num\">1&nbsp;&nbsp;</span>Çok Serbestlik Dereceli Sistemlerin Salınımları</a></span><ul class=\"toc-item\"><li><span><a href=\"#Sürekli-ipin-genel-hareketi-ve-Fourier-çözümlemesi\" data-toc-modified-id=\"Sürekli-ipin-genel-hareketi-ve-Fourier-çözümlemesi-1.1\"><span class=\"toc-item-num\">1.1&nbsp;&nbsp;</span>Sürekli ipin genel hareketi ve Fourier çözümlemesi</a></span><ul class=\"toc-item\"><li><span><a href=\"#Kare-dalganın-Fourier-açılımı\" data-toc-modified-id=\"Kare-dalganın-Fourier-açılımı-1.1.1\"><span class=\"toc-item-num\">1.1.1&nbsp;&nbsp;</span>Kare dalganın Fourier açılımı</a></span></li><li><span><a href=\"#Zaman-periyotlu-bir-$F(t)$-fonksiyonu-için-Fourier-açılımı\" data-toc-modified-id=\"Zaman-periyotlu-bir-$F(t)$-fonksiyonu-için-Fourier-açılımı-1.1.2\"><span class=\"toc-item-num\">1.1.2&nbsp;&nbsp;</span>Zaman periyotlu bir $F(t)$ fonksiyonu için Fourier açılımı</a></span></li><li><span><a href=\"#Tam-fonksiyonlar-kümesi\" data-toc-modified-id=\"Tam-fonksiyonlar-kümesi-1.1.3\"><span class=\"toc-item-num\">1.1.3&nbsp;&nbsp;</span>Tam fonksiyonlar kümesi</a></span><ul class=\"toc-item\"><li><span><a href=\"#Düzgün-kütle-yoğunluklu-ip\" data-toc-modified-id=\"Düzgün-kütle-yoğunluklu-ip-1.1.3.1\"><span class=\"toc-item-num\">1.1.3.1&nbsp;&nbsp;</span>Düzgün kütle yoğunluklu ip</a></span></li><li><span><a href=\"#Değişken-kütle-yoğunluklu-ip\" data-toc-modified-id=\"Değişken-kütle-yoğunluklu-ip-1.1.3.2\"><span class=\"toc-item-num\">1.1.3.2&nbsp;&nbsp;</span>Değişken kütle yoğunluklu ip</a></span></li></ul></li></ul></li><li><span><a href=\"#N-serbestlik-dereceli-süreksiz-sistemlerin-kipleri\" data-toc-modified-id=\"N-serbestlik-dereceli-süreksiz-sistemlerin-kipleri-1.2\"><span class=\"toc-item-num\">1.2&nbsp;&nbsp;</span>N serbestlik dereceli süreksiz sistemlerin kipleri</a></span><ul class=\"toc-item\"><li><span><a href=\"#Bir-ipe-dizilmiş-boncukların-enine-salınımları\" data-toc-modified-id=\"Bir-ipe-dizilmiş-boncukların-enine-salınımları-1.2.1\"><span class=\"toc-item-num\">1.2.1&nbsp;&nbsp;</span>Bir ipe dizilmiş boncukların enine salınımları</a></span></li><li><span><a href=\"#Süreklilik-veya-uzun-dalgaboyu-yaklaşıklığı\" data-toc-modified-id=\"Süreklilik-veya-uzun-dalgaboyu-yaklaşıklığı-1.2.2\"><span class=\"toc-item-num\">1.2.2&nbsp;&nbsp;</span>Süreklilik veya uzun dalgaboyu yaklaşıklığı</a></span></li><li><span><a href=\"#Yaylar-ve-kütleler-sisteminin-boyuna-salınımları\" data-toc-modified-id=\"Yaylar-ve-kütleler-sisteminin-boyuna-salınımları-1.2.3\"><span class=\"toc-item-num\">1.2.3&nbsp;&nbsp;</span>Yaylar ve kütleler sisteminin boyuna salınımları</a></span></li><li><span><a href=\"#Birim-uzunluk-başına-ters-yay-sabiti-($K^{-1}$)\" data-toc-modified-id=\"Birim-uzunluk-başına-ters-yay-sabiti-($K^{-1}$)-1.2.4\"><span class=\"toc-item-num\">1.2.4&nbsp;&nbsp;</span>Birim uzunluk başına ters yay sabiti ($K^{-1}$)</a></span></li><li><span><a href=\"#Gevşek-yay-(Slinky)\" data-toc-modified-id=\"Gevşek-yay-(Slinky)-1.2.5\"><span class=\"toc-item-num\">1.2.5&nbsp;&nbsp;</span>Gevşek yay (Slinky)</a></span></li><li><span><a href=\"#LC-örgüsü\" data-toc-modified-id=\"LC-örgüsü-1.2.6\"><span class=\"toc-item-num\">1.2.6&nbsp;&nbsp;</span>LC örgüsü</a></span></li><li><span><a href=\"#Çiftlenimli-Sarkaçlar\" data-toc-modified-id=\"Çiftlenimli-Sarkaçlar-1.2.7\"><span class=\"toc-item-num\">1.2.7&nbsp;&nbsp;</span>Çiftlenimli Sarkaçlar</a></span></li><li><span><a href=\"#Plazma-salınımları\" data-toc-modified-id=\"Plazma-salınımları-1.2.8\"><span class=\"toc-item-num\">1.2.8&nbsp;&nbsp;</span>Plazma salınımları</a></span></li></ul></li><li><span><a href=\"#Kaynaklar\" data-toc-modified-id=\"Kaynaklar-1.3\"><span class=\"toc-item-num\">1.3&nbsp;&nbsp;</span>Kaynaklar</a></span></li></ul></li></ul></div>"
   ]
  },
  {
   "cell_type": "code",
   "execution_count": 1,
   "metadata": {
    "ExecuteTime": {
     "end_time": "2019-02-13T11:36:20.128571Z",
     "start_time": "2019-02-13T11:36:19.364571Z"
    },
    "hide_input": true
   },
   "outputs": [
    {
     "data": {
      "text/html": [
       "\n",
       "    <b>\n",
       "    <font size=\"6\" face='bold' color=\"blue\">TİTREŞİM ve DALGAR / FİZ220 </font> \n",
       "    <br><br>\n",
       "    <font size=\"5\">Doç. Dr. Mesut Karakoç </font>\n",
       "    </b>\n",
       "    <br><br>\n",
       "    <font size=\"4\" color=\"black\"> \n",
       "    Akdeniz Üniversitesi, Fen Fakültesi, Fizik Bölümü \n",
       "    <br>    \n",
       "    2018 - 2019 Bahar Dönemi \n",
       "    </font>\n",
       "    <br>\n",
       "    "
      ],
      "text/plain": [
       "<IPython.core.display.HTML object>"
      ]
     },
     "metadata": {},
     "output_type": "display_data"
    },
    {
     "data": {
      "text/html": [
       "\n",
       "    <!-- ******************************************************** -->\n",
       "    <!-- **************** Kod hücrelerini sakla ***************** -->\n",
       "    <!-- ******************************************************** -->\n",
       "    <!-- https://stackoverflow.com/questions/31517194/how-to-hide-one-specific-cell-input-or-output-in-ipython-notebook -->\n",
       "    <script> \n",
       "    code_show=true; \n",
       "    function code_toggle() {\n",
       "        if (code_show){$('div.input').hide();} else {$('div.input').show();}\n",
       "        if (code_show){$('div.cell.code_cell.rendered.selected div.input').hide();} \n",
       "        else          {$('div.cell.code_cell.rendered.selected div.input').hide();}\n",
       "        code_show = !code_show }\n",
       "    $(document).ready(code_toggle);\n",
       "    </script>\n",
       "    \n",
       "    <a href=\"javascript:code_toggle()\" style=\"text-decoration:none\" \n",
       "    class=\"btn btn-default btn-danger btn-large fa fa-toggle-on\">\n",
       "    &nbsp;&nbsp;&nbsp; Kod hücrelerini, KAPAT / AÇ! </a>\n",
       "    <!-- ######################################################### -->\n",
       "    <!-- ######################################################### -->\n",
       "    \n",
       "    <!-- ********************************************************* -->\n",
       "    <!-- ****** Trusted Notebookları başlangıçta çalıştır   ****** -->\n",
       "    <!-- ****** jupyter trust *.ipynb                       ****** -->\n",
       "    <!-- ****** ile bütün notebooklar güvenilir yapılabilir.****** -->\n",
       "    <!-- ********************************************************* -->\n",
       "    <!--https://stackoverflow.com/questions/31984196/ipython-notebook-run-all-cells-on-open -->\n",
       "    <script>\n",
       "        // AUTORUN ALL CELLS ON NOTEBOOK-LOAD!\n",
       "        require(\n",
       "            ['base/js/namespace', 'jquery'], \n",
       "            function(jupyter, $) {\n",
       "                $(jupyter.events).on(\"kernel_ready.Kernel\", function () {\n",
       "                    console.log(\"Auto-running all cells-below...\");\n",
       "                    jupyter.actions.call('jupyter-notebook:run-all-cells-below');\n",
       "                 // jupyter.actions.call('jupyter-notebook:save-notebook');\n",
       "                });\n",
       "            }\n",
       "        );\n",
       "    </script>\n",
       "    <!-- ######################################################### -->\n",
       "    <!-- ######################################################### -->\n",
       "    \n",
       "    <!-- ******************************************************** -->\n",
       "    <!-- HTML için gerekli stilleri buradan ayarla                -->\n",
       "    <!-- Bu hücreyi nbextension'dan 'hide input' kullanarak sakla -->\n",
       "    <!-- ******************************************************** -->\n",
       "    \n",
       "    <style>\n",
       "    table.a, tr.a {text-align: left !important; \n",
       "             font-size: 20px;}\n",
       "    \n",
       "    table.b {text-align: left !important; \n",
       "             font-size: 16px;\n",
       "             margin: 0;}\n",
       "    \n",
       "    tr.b {text-align: left !important;}\n",
       "    \n",
       "    td.b {text-align: left !important;}\n",
       "    \n",
       "    li {text-align: left;}\n",
       "    </style>\n",
       "    <!-- ######################################################### -->\n",
       "    <!-- ######################################################### -->\n",
       "    \n",
       "    <!-- ********************************************************* -->\n",
       "    <!-- ****** Sayfa yönlendirme butonları                 ****** -->\n",
       "    <!-- ********************************************************* -->\n",
       "    &nbsp;&nbsp;&nbsp;&nbsp;\n",
       "    <tr align='left'>\n",
       "        <th>\n",
       "         <a href=\"./02a_titresim_ve_dalgalar.ipynb\" target=\"_blank\">\n",
       "           <button>\n",
       "           <i class=\"fa fa-arrow-circle-left fa-2x\" style=\"color: firebrick ; vertical-align: middle\"></i> Önceki Sayfa\n",
       "           </button> \n",
       "         </a>\n",
       "        </th>\n",
       "        \n",
       "        <th>&nbsp;&nbsp;&nbsp;&nbsp;&nbsp;&nbsp;&nbsp;&nbsp;&nbsp;&nbsp;</th>    \n",
       "        \n",
       "        <th>\n",
       "         <a href=\"./00_titresim_ve_dalgalar.ipynb\" target=\"_blank\">\n",
       "           <button>\n",
       "           <i class=\"fa fa-home fa-2x\" style=\"color: firebrick ; vertical-align: middle\"></i> Ana Sayfa\n",
       "           </button> \n",
       "         </a>\n",
       "        </th>\n",
       "        \n",
       "        <th>&nbsp;&nbsp;&nbsp;&nbsp;&nbsp;&nbsp;&nbsp;&nbsp;&nbsp;&nbsp;</th>\n",
       "        \n",
       "        <th>\n",
       "         <a href=\"./03_titresim_ve_dalgalar.ipynb\" target=\"_blank\">\n",
       "           <button>\n",
       "           Sonraki Sayfa <i class=\"fa fa-arrow-circle-right fa-2x\" style=\"color: firebrick ; vertical-align: middle\"></i>\n",
       "           </button>\n",
       "         </a>\n",
       "        </th>\n",
       "    </tr>\n",
       "    <!-- ######################################################### -->\n",
       "    <!-- ######################################################### -->\n",
       "    "
      ],
      "text/plain": [
       "<IPython.core.display.HTML object>"
      ]
     },
     "metadata": {},
     "output_type": "display_data"
    }
   ],
   "source": [
    "# ****************************************************\n",
    "# Bu Jupyter notebookta kullanılan ortak kütüphaneler.\n",
    "# ****************************************************\n",
    "%matplotlib inline\n",
    "from kutuphaneler import *\n",
    "\n",
    "course_title()\n",
    "\n",
    "ortak = \"_titresim_ve_dalgalar.ipynb\"\n",
    "prevp, homep, nextp = \"./02a\", \"./00\", \"./03\"\n",
    "course_links(prevp+ortak, homep+ortak, nextp+ortak)"
   ]
  },
  {
   "cell_type": "markdown",
   "metadata": {},
   "source": [
    "# Çok Serbestlik Dereceli Sistemlerin Salınımları"
   ]
  },
  {
   "cell_type": "markdown",
   "metadata": {},
   "source": [
    "## Sürekli ipin genel hareketi ve Fourier çözümlemesi"
   ]
  },
  {
   "cell_type": "markdown",
   "metadata": {},
   "source": [
    "İki ucu sabitlenmiş sürekli bir ipin enine salınımının en genel hali,\n",
    "<br>  \n",
    "\\begin{align}\n",
    "\\label{eq:fourier1}\n",
    "\\psi(z, t) &= \\sum \\limits_{n=0}^{\\infty}  A_n\\sin(k_n z)\\cos(w_n t + \\phi_n) \\\\\n",
    "& = A_1\\sin(k_1 z)\\cos(w_1 t + \\phi_1) + A_2\\sin(k_2 z)\\cos(w_2 t + \\phi_2) + A_3\\sin(k_3 z)\\cos(w_3 t + \\phi_3) + \\ldots\n",
    "\\end{align}\n",
    "<br>\n",
    "ile ifade edilir. Bu oluşan serideki her bir terim ipin her bir (duran dalga) kipine denk gelmektedir. Aşağıda tek başına yeniden yazılan ve bir kipi temsil eden terimlerin üst üste gelmesiyle yukarıdaki en genel çözüm (veya seri) elde edilmiş olur. \n",
    "<br>  \n",
    "\\begin{align}\n",
    "\\label{eq:fourier2}\n",
    "\\psi_n(z, t) = A_n\\sin(k_n z)\\cos(w_n t + \\phi_n) \n",
    "\\end{align}\n",
    "<br>\n",
    "Bu kiplerin her biri için $k_n$ dalga sayısı, daha önce yapıldığı gibi, $z=0$ ve $z=L$ sınır şartlarıyla belirlenmiş olur. $\\omega$ ise daha önce tartışmasını yaptığımız gibi $k$'nin $\\omega(k)$ şeklinde bir fonksiyonudur. Geriye kalan $A_n$ genlikleri ve $\\phi_n$ faz sabitleri ise t=0 (başlangıç) anındaki, $\\psi_n(z, t)$ ve $v(z, t) = {\\partial\\psi_n(z, t)\\over\\partial t}$, yer değiştirme ve hız değerleri kullanılarak bulunur.\n",
    "\n",
    "İki ucu sabitlenmiş bu ipin harekete başlamadan önce $f(z)$ fonksiyonuyla belirlenen bir şekle getirildiğini ve bu şekilden durgun harekete başladığını kabul edelim. Bu durumda $f(z)$ fonksiyonu aşağıdaki gibi olacaktır. \n",
    "<br>  \n",
    "\\begin{align}\n",
    "\\label{eq:fourier3}\n",
    "f(z) = \\psi(z, 0) &= \\sum \\limits_{n=0}^{\\infty}  A_n\\sin(k_n z) \\\\\n",
    "& = A_1\\sin(k_1 z) + A_2\\sin(k_2 z)+ A_3\\sin(k_3 z) + \\ldots\n",
    "\\end{align}\n",
    "<br>\n",
    "Burada $\\phi_n$'lerin $\\large A_n \\cos{\\phi_n}\\rightarrow A_n$ olacak şekilde saklandığını düşünebilirsiniz. Çünkü faz sabitleri sadece genliğin büyüklüğünü ve/veya işaretini değiştireceklerdir.\n"
   ]
  },
  {
   "cell_type": "code",
   "execution_count": 2,
   "metadata": {
    "ExecuteTime": {
     "end_time": "2019-02-13T11:36:20.686066Z",
     "start_time": "2019-02-13T11:36:20.132569Z"
    },
    "hide_input": true,
    "scrolled": false
   },
   "outputs": [
    {
     "data": {
      "image/png": "[encoded data removed]",
      "text/plain": [
       "<Figure size 1296x432 with 1 Axes>"
      ]
     },
     "metadata": {
      "needs_background": "light"
     },
     "output_type": "display_data"
    }
   ],
   "source": [
    "def f(x):\n",
    "    return np.sin(np.pi*x)*(1.5-np.exp(-100*(x-.45)**2))\n",
    "\n",
    "\n",
    "plt.figure(figsize=(18,6))\n",
    "plt.rc('axes',edgecolor='black')\n",
    "\n",
    "x = np.linspace(0, 1)\n",
    "\n",
    "# f(z) fonksiyonu çizimi\n",
    "plt.plot(x, f(x) + 4, color='red', lw=2)\n",
    "plt.text(.4, 5.5, '$f(z)$', fontsize=20)\n",
    "plt.text(0.01, 3, '$0$', fontsize=20)\n",
    "plt.text(.9, 3, '$L$', fontsize=20)\n",
    "# f(z) ipinin tutturulduğu duvarlar\n",
    "plt.axhline(4, xmin=0.42, xmax=.58, color='gray', zorder=-100)\n",
    "plt.bar(1.925-2, 2.1, .05, 3., hatch='/', color='white')\n",
    "plt.bar(1.975-2, 2.1, .025, 3., color='black')\n",
    "plt.bar(3.020-2, 2.1, .05, 3., hatch='\\\\', color='white')\n",
    "plt.bar(3.00-2, 2.1, .025, 3., color='black')\n",
    "\n",
    "\n",
    "# F(z) fonksiyonu\n",
    "for xi in range(-2, 3):\n",
    "    isaret = (-1)**xi\n",
    "    plt.plot(x+xi, isaret*f(x), color='red', lw=2)\n",
    "    plt.text(.4+xi, -isaret*0.5, '%sf(z)'%str(\"%+d\"%isaret)[0], fontsize=20)\n",
    "\n",
    "plt.text(.4, 1.5, '$F(z)$', fontsize=20)\n",
    "plt.axhline(0, color='gray', zorder=-100)\n",
    "plt.xlim(-2.5, 3.5)\n",
    "plt.ylim(-3, 6)\n",
    "#plt.savefig('./sekiller/surekli_ip_fourier.svg')\n",
    "plt.gca().xaxis.grid()\n",
    "plt.show()"
   ]
  },
  {
   "cell_type": "markdown",
   "metadata": {},
   "source": [
    "İpin $t=0$ anındaki başlangıç davranışını belirleyen, üstteki şekilde gösterilen gibi, bir $f(z)$ fonksiyonu herhangi bir şekilde olabilir yeter ki,\n",
    "\n",
    "- f(z=0) = 0,\n",
    "- f(z=L) = L,\n",
    "- f(z) yavaş değişen bir fonksiyonu ve \n",
    "- f(z) klâsik dalga denkleminin bir çözümü\n",
    "\n",
    "olsun. Bu şartları sağlayan her f(z) fonksiyonu yukarıda elde edilen ve sinüslü terimler içeren bir seriye açılabilir. Bu seri <b><em>Fourier serisi</em></b> veya <b><em>Fourier açılımı</em></b> olarak isimlendirilir. Elde edilen Fourier serisi özel olarak uçları sabitlenmiş ip vb. gibi sistemler için elde edilmiştir. Fakat daha genel durumlar için de Fourier açılımı mümkündür.\n",
    "\n",
    "Bir ipin sabit uçlarında $f(z)=0$ olacak durum için bir seri elde edilmiş olsa da, serideki sinüslü terimler $z\\in(-\\infty,\\infty)$ aralığında tanımlıdırlar. Bütün terimler hem $\\lambda_1 = 2L$'e göre hem de kendi dalga boylarına göre periyotludurlar. Bu durumda $f(z)$ fonksiyonu da yani serinin toplamı da $\\lambda_1$ periyotludur. \n",
    "\n",
    "$f(z)$ fonksiyonu kullanılarak oluşturulan, yukarıdaki şekildeki gibi, yeni bir fonksiyon $F(z)$ fonksiyonu için de benzeri bir Fourier seri açılımı yapılabilir. Çünkü $f(z)$'de $F(z)$'de $\\lambda_1$ periyotlu olacaktır. \n",
    "\n",
    "İlk elde ettiğimiz Fourier serisini iki ucu sabitlenmiş bir sistem için elde etmiş olabiliriz belki, fakat her sistem böyle olmak zorunda değildir. Hatırlanırsa duran dalga çözümlerini elde edebilmek için klâsik dalga denkleminin genel çözümündeki cosinüslü terimler atılmak zorunda kalınmıştı. Bu terimlerin kaybolmadığı bir sistem ve onun $F(z) = F(z+\\lambda_1)$ periyotlu çözümü için,\n",
    "<br>  \n",
    "\\begin{align}\n",
    "\\label{eq:fourier4}\n",
    "F(z) &= \\sum\\limits^{\\infty}_{n=0}\\left[A_n \\sin(n {2\\pi\\over\\lambda_1}z) + B_n \\cos(n {2\\pi\\over\\lambda_1}z)\\right] \\\\\n",
    "& = A_0 + B_0 +\\sum\\limits^{\\infty}_{n=1}\\left[A_n \\sin(n k_1 z) + B_n \\cos(n k_1 z)\\right]\n",
    "\\end{align}\n",
    "<br>\n",
    "şeklinde bir Fourier (serisi) açılımı ortaya çıkar. Bilinen bir $F(z)$ fonksiyonu için serideki $A_n$ ve $B_n$ katsayıları bulunabilir. $A_n$'ler içinden herhangi bir $A_m$ ($0\\leq m \\leq n$)  katsayısını bulabilmek için Denk. \\ref{eq:fourier4}'deki eşitliğin her iki tarafını $\\sin(m k_1 z)$ ile çarpıp, her iki tarafın $\\bf{[z, z+\\lambda_1]}$ aralığında, yani bir periyot üzerinden, integralini almalıyız. Benzerini $B_n$'ler arasından herhangi bir $B_m$ katsayısı için yapmalıyız, bir farkla Denk \\ref{eq:fourier4}'ün her iki tarafı $\\cos(m k_1 z)$ ile çarpılmalıdır. Böylece herhangi bir $A_m$ için,\n",
    "<br>  \n",
    "\\begin{align}\n",
    "\\label{eq:fourier5}\n",
    "\\int\\limits^{z+\\lambda_1}_{z} \\sin(m k_1 z) F(z) dz &= \n",
    "(A_0 + B_0) \\int\\limits^{z+\\lambda_1}_{z} \\sin(m k_1 z) dz +  \\\\\n",
    "& \\sum\\limits^{\\infty}_{n=1}\\big[\n",
    "A_n \\int\\limits^{z+\\lambda_1}_{z}\\sin(n k_1 z) \\sin(m k_1 z) dz + \n",
    "B_n\\int\\limits^{z+\\lambda_1}_{z} \\cos(n k_1 z) \\sin(m k_1 z) dz\n",
    "\\big] \\nonumber\n",
    "\\end{align}\n",
    "<br>\n",
    "ve herhangi bir $B_m$ için de,\n",
    "<br>  \n",
    "\\begin{align}\n",
    "\\label{eq:fourier6}\n",
    "\\int\\limits^{z+\\lambda_1}_{z} \\cos(m k_1 z) F(z) dz &=\n",
    "(A_0 + B_0) \\int\\limits^{z+\\lambda_1}_{z} \\cos(m k_1 z) dz +  \\\\\n",
    "& \\sum\\limits^{\\infty}_{n=1}\\big[\n",
    " A_n \\int\\limits^{z+\\lambda_1}_{z} \\sin(n k_1 z) \\cos(m k_1 z) dz + \n",
    "B_n \\int\\limits^{z+\\lambda_1}_{z} \\cos(n k_1 z) \\cos(m k_1 z) dz\n",
    "\\big] \\nonumber\n",
    "\\end{align}\n",
    "<br>\n",
    "olur. Yukarıdaki integrallerdeki sinüs ve cosinüs terimlerinin bir arada bulunduğu integraller hem $n=m$ durumunda hem de $n\\neq m$ durumunda sıfır olurlar. Sadece sinüslü veya sadece cosinüslü terimler içeren integraller ise $n=m$ durumunda sıfırdan farklı, $n\\neq m$ durumunda sıfır olurlar. Aşağıdaki örnekte $n$ ve $m$'nin eşit ve farklı  oldukları durumlar için örnekler gösterilmiştir. Yukarıdaki iki denklemdeki $A_0 + B_0$ ifadelerinin yanlarındaki integraller $m\\neq0$ olduğu sürece sıfırdır.\n"
   ]
  },
  {
   "cell_type": "code",
   "execution_count": 3,
   "metadata": {
    "ExecuteTime": {
     "end_time": "2019-02-13T11:36:24.901668Z",
     "start_time": "2019-02-13T11:36:20.688943Z"
    },
    "hide_input": false
   },
   "outputs": [
    {
     "data": {
      "text/markdown": [
       "<font size=4><b> En üstteki kırmızı buton ile yukarıdaki integralleri hesaplayan <br> \n",
       "    ve aşağıdaki çıktıları üreten Python kodu açılabilir.</b></font>"
      ],
      "text/plain": [
       "<IPython.core.display.Markdown object>"
      ]
     },
     "metadata": {},
     "output_type": "display_data"
    },
    {
     "data": {
      "text/markdown": [
       "**$n = m$ durumu:** n =1, m= 1"
      ],
      "text/plain": [
       "<IPython.core.display.Markdown object>"
      ]
     },
     "metadata": {},
     "output_type": "display_data"
    },
    {
     "data": {
      "text/markdown": [
       "$\\int\\limits^{\\lambda_1/2}_{-\\lambda_1/2} \\sin{\\left (k_{1} m z \\right )} \\sin{\\left (k_{1} n z \\right )} dz = 0.5 \\lambda_1$"
      ],
      "text/plain": [
       "<IPython.core.display.Markdown object>"
      ]
     },
     "metadata": {},
     "output_type": "display_data"
    },
    {
     "data": {
      "text/markdown": [
       "$\\int\\limits^{\\lambda_1/2}_{-\\lambda_1/2} \\sin{\\left (k_{1} m z \\right )} \\cos{\\left (k_{1} n z \\right )} dz = 0.0 \\lambda_1$"
      ],
      "text/plain": [
       "<IPython.core.display.Markdown object>"
      ]
     },
     "metadata": {},
     "output_type": "display_data"
    },
    {
     "data": {
      "text/markdown": [
       "$\\int\\limits^{\\lambda_1/2}_{-\\lambda_1/2} \\sin{\\left (k_{1} n z \\right )} \\cos{\\left (k_{1} m z \\right )} dz = 0.0 \\lambda_1$"
      ],
      "text/plain": [
       "<IPython.core.display.Markdown object>"
      ]
     },
     "metadata": {},
     "output_type": "display_data"
    },
    {
     "data": {
      "text/markdown": [
       "$\\int\\limits^{\\lambda_1/2}_{-\\lambda_1/2} \\cos{\\left (k_{1} m z \\right )} \\cos{\\left (k_{1} n z \\right )} dz = 0.5 \\lambda_1$"
      ],
      "text/plain": [
       "<IPython.core.display.Markdown object>"
      ]
     },
     "metadata": {},
     "output_type": "display_data"
    },
    {
     "data": {
      "text/markdown": [
       "**$n \\neq m$ durumu:** n =1, m= 2"
      ],
      "text/plain": [
       "<IPython.core.display.Markdown object>"
      ]
     },
     "metadata": {},
     "output_type": "display_data"
    },
    {
     "data": {
      "text/markdown": [
       "$\\int\\limits^{\\lambda_1/2}_{-\\lambda_1/2} \\sin{\\left (k_{1} m z \\right )} \\sin{\\left (k_{1} n z \\right )} dz = 0.0 \\lambda_1$"
      ],
      "text/plain": [
       "<IPython.core.display.Markdown object>"
      ]
     },
     "metadata": {},
     "output_type": "display_data"
    },
    {
     "data": {
      "text/markdown": [
       "$\\int\\limits^{\\lambda_1/2}_{-\\lambda_1/2} \\sin{\\left (k_{1} m z \\right )} \\cos{\\left (k_{1} n z \\right )} dz = 0.0 \\lambda_1$"
      ],
      "text/plain": [
       "<IPython.core.display.Markdown object>"
      ]
     },
     "metadata": {},
     "output_type": "display_data"
    },
    {
     "data": {
      "text/markdown": [
       "$\\int\\limits^{\\lambda_1/2}_{-\\lambda_1/2} \\sin{\\left (k_{1} n z \\right )} \\cos{\\left (k_{1} m z \\right )} dz = 0.0 \\lambda_1$"
      ],
      "text/plain": [
       "<IPython.core.display.Markdown object>"
      ]
     },
     "metadata": {},
     "output_type": "display_data"
    },
    {
     "data": {
      "text/markdown": [
       "$\\int\\limits^{\\lambda_1/2}_{-\\lambda_1/2} \\cos{\\left (k_{1} m z \\right )} \\cos{\\left (k_{1} n z \\right )} dz = 0.0 \\lambda_1$"
      ],
      "text/plain": [
       "<IPython.core.display.Markdown object>"
      ]
     },
     "metadata": {},
     "output_type": "display_data"
    }
   ],
   "source": [
    "n, m, k_1, z = sym.symbols('n, m, k_1, z', real=True)\n",
    "\n",
    "\n",
    "fcs = [\n",
    "    sym.sin(n*k_1*z)*sym.sin(m*k_1*z),\n",
    "    sym.cos(n*k_1*z)*sym.sin(m*k_1*z),\n",
    "    sym.sin(n*k_1*z)*sym.cos(m*k_1*z),\n",
    "    sym.cos(n*k_1*z)*sym.cos(m*k_1*z)\n",
    "]\n",
    "\n",
    "# n = m\n",
    "nn, mm, lambda_1 = 1, 1, 1.\n",
    "k1 = 2*sym.pi/lambda_1\n",
    "L0 = lambda_1/2 # -L0'dan +L0'a bir dalga boyu periyotu\n",
    "\n",
    "fn = [f.subs({m:mm, n:nn, k_1:k1}) for f in fcs]\n",
    "In = [sym.integrate(f, (z,-L0, L0)) for f in fn]\n",
    "display(Markdown(\n",
    "    u'''<font size=4><b> En üstteki kırmızı buton ile yukarıdaki integralleri hesaplayan <br> \n",
    "    ve aşağıdaki çıktıları üreten Python kodu açılabilir.</b></font>'''))\n",
    "display(Markdown('**$n = m$ durumu:** n =%s, m= %s'%(nn, mm)))\n",
    "for fcsi, Is in enumerate(In):\n",
    "    display(Markdown(ur'$\\int\\limits^{\\lambda_1/2}_{-\\lambda_1/2} %s dz = %.1f \\lambda_1$'%(sym.latex(fcs[fcsi]), Is/lambda_1)))\n",
    "    \n",
    "# n != m\n",
    "nn, mm, lambda_1 = 1, 2, 1.\n",
    "k1 = 2*sym.pi/lambda_1\n",
    "L0 = lambda_1/2 # -L0'dan +L0'a bir dalga boyu periyotu\n",
    "\n",
    "fn = [f.subs({m:mm, n:nn, k_1:k1}) for f in fcs]\n",
    "In = [sym.integrate(f, (z,-L0, L0)) for f in fn]\n",
    "display(Markdown(ur'**$n \\neq m$ durumu:** n =%s, m= %s'%(nn, mm)))\n",
    "for fcsi, Is in enumerate(In):\n",
    "    display(Markdown('$\\int\\limits^{\\lambda_1/2}_{-\\lambda_1/2} %s dz = %.1f \\lambda_1$'%(sym.latex(fcs[fcsi]), Is/lambda_1)))"
   ]
  },
  {
   "cell_type": "markdown",
   "metadata": {},
   "source": [
    "Böylece $n=m$ durumunda $A_n=A_m$ katsayısının yanındaki dışında geriye kalan bütün integraller sıfır verir. Bu sayede $A_m$ katsayıları,\n",
    "<br>  \n",
    "\\begin{align}\n",
    "\\label{eq:fourier7}\n",
    "A_m  = {2\\over \\lambda_1}\\int\\limits^{z+\\lambda_1}_{z} \\sin(m k_1 z) F(z) dz\n",
    "\\end{align}\n",
    "<br>\n",
    "olarak elde edilir. Benzer şekilde $B_m$ katsayıları da,\n",
    "<br>  \n",
    "\\begin{align}\n",
    "\\label{eq:fourier8}\n",
    "B_m  = {2\\over \\lambda_1}\\int\\limits^{z+\\lambda_1}_{z} \\cos(m k_1 z) F(z) dz\n",
    "\\end{align}\n",
    "<br>\n",
    "olarak elde edilirler. $m = 0$ durumunda $A_0$ için,\n",
    "<br>  \n",
    "\\begin{align}\n",
    "\\label{eq:fourier9}\n",
    "A_0 \\int\\limits^{z+\\lambda_1}_{z} \\sin(m k_1 z) dz  = \\int\\limits^{z+\\lambda_1}_{z} \\sin(0) F(z) dz = 0\n",
    "\\end{align}\n",
    "<br>\n",
    "olur, bu yüzden $A_0=0$'dır. $B_0$ için ise,\n",
    "<br>  \n",
    "\\begin{align}\n",
    "\\label{eq:fourier10}\n",
    "B_0 \\int\\limits^{z+\\lambda_1}_{z} \\cos(m k_1 z) dz = B_0 \\int\\limits^{z+\\lambda_1}_{z} \\cos(0) dz = B_0\\lambda_1 \n",
    "=\\int\\limits^{z+\\lambda_1}_{z} \\cos(m k_1 z) F(z) dz\n",
    "\\end{align}\n",
    "<br>\n",
    "olur. Böylece $B_0$,\n",
    "<br>  \n",
    "\\begin{align}\n",
    "\\label{eq:fourier11}\n",
    "B_0 ={1\\over\\lambda_1}\\int\\limits^{z+\\lambda_1}_{z} F(z) dz\n",
    "\\end{align}\n",
    "<br>\n",
    "olarak bulunur. Artık bütün katsayıları bulabilmek için geliştirdiğimiz ifadeler sayesinde daha önce sıraladağımız varsayımlara uyan herhangi bir $F(z)$ fonksiyonunu Fourier serisine açabiliriz."
   ]
  },
  {
   "cell_type": "markdown",
   "metadata": {},
   "source": [
    "### Kare dalganın Fourier açılımı"
   ]
  },
  {
   "cell_type": "code",
   "execution_count": 4,
   "metadata": {
    "ExecuteTime": {
     "end_time": "2019-02-13T11:36:25.305925Z",
     "start_time": "2019-02-13T11:36:24.905645Z"
    },
    "hide_input": true,
    "scrolled": false
   },
   "outputs": [
    {
     "data": {
      "image/png": "[encoded data removed]",
      "text/plain": [
       "<Figure size 1296x432 with 1 Axes>"
      ]
     },
     "metadata": {
      "needs_background": "light"
     },
     "output_type": "display_data"
    }
   ],
   "source": [
    "def f(x):\n",
    "    return np.heaviside(x,1)\n",
    "\n",
    "\n",
    "plt.figure(figsize=(18,6))\n",
    "plt.rc('axes',edgecolor='black')\n",
    "\n",
    "x = np.linspace(0, 1)\n",
    "\n",
    "# f(z) fonksiyonu çizimi\n",
    "plt.plot(x, f(x) + 4, color='red', lw=2)\n",
    "plt.plot([x[0], x[0]], [4,f(x[0])+4], '--', color='red', lw=2)\n",
    "plt.plot([x[0]+1, x[0]+1], [4,f(x[-1])+4], '--', color='red', lw=2)\n",
    "\n",
    "plt.text(.4, 5.5, '$f(z)$', fontsize=20)\n",
    "plt.text(0.01, 3.5, '$0$', fontsize=20)\n",
    "plt.text(.9, 3.5, '$L$', fontsize=20)\n",
    "# f(z) ipinin tutturulduğu duvarlar\n",
    "plt.axhline(4, xmin=0.42, xmax=.58, color='gray', zorder=-100)\n",
    "\n",
    "\n",
    "# F(z) fonksiyonu\n",
    "for xi in range(-2, 3):\n",
    "    isaret = (-1)**xi\n",
    "    plt.plot([xi, xi], [0,isaret*f(x[0])], '--', color='red', lw=2)\n",
    "    plt.plot([xi+1, xi+1], [0,isaret*f(x[-1])], '--', color='red', lw=2)\n",
    "    plt.plot(x+xi, isaret*f(x), color='red', lw=2)\n",
    "    plt.text(.4+xi, -isaret*0.5, '%sf(z)'%str(\"%+d\"%isaret)[0], fontsize=20)\n",
    "\n",
    "plt.text(.4, 1.5, '$F(z)$', fontsize=20)\n",
    "plt.axhline(0, color='gray', zorder=-100)\n",
    "plt.xlim(-2.5, 3.5)\n",
    "plt.ylim(-3, 6)\n",
    "#plt.savefig('./sekiller/surekli_ip_fourier.svg')\n",
    "plt.gca().xaxis.grid()\n",
    "plt.show()"
   ]
  },
  {
   "cell_type": "markdown",
   "metadata": {},
   "source": [
    "Yukarıdaki gibi bir kare dalganın Fourier açılımını yapmak mümkündür. Çözümlemek istedğimiz $f(z)$ ve $F(z)$ fonksiyonları $z=0$ ve $z=L$'de süreksizlerdir. Bu yüzden $F(z)$'nin yavaş değişen bir fonksiyon olduğu varsayımı burada geçerli değildir. Böyle bir $F(z)$'nin açılımından elde edilen serinin $F(z)$'yi tam olarak temsil etmesini bekleyemeyiz. Seriden elde edilecek olan kare dalganın uç kısımları $f(z)$'nin ki kadar keskin olmayacaktır. Serinin terim sayısı arttıkça yine de kare dalgaya daha da yaklaşılmış olur. Yukarıdaki gibi bir $F(z)$ fonksiyonu için Fourier serisinin ilk bir kaç katsayısının değerleri aşağıda verilmiştir."
   ]
  },
  {
   "cell_type": "code",
   "execution_count": 5,
   "metadata": {
    "ExecuteTime": {
     "end_time": "2019-02-13T11:36:25.529619Z",
     "start_time": "2019-02-13T11:36:25.310516Z"
    },
    "hide_input": true,
    "run_control": {
     "marked": false
    },
    "scrolled": true
   },
   "outputs": [
    {
     "name": "stdout",
     "output_type": "stream",
     "text": [
      "Kare dalga için Fourier açılımı katsayıları...\n",
      "Kat sayılar analitik integralle bulunmuştur.\n",
      "A_1 =       4/pi, B_1 =          0\n",
      "A_2 =          0, B_2 =          0\n",
      "A_3 =   4/(3*pi), B_3 =          0\n",
      "A_4 =          0, B_4 =          0\n",
      "A_5 =   4/(5*pi), B_5 =          0\n"
     ]
    }
   ],
   "source": [
    "n, m, k_1, z = sym.symbols('n, m, k_1, z', real=True)\n",
    "\n",
    "# Aşağıdaki hata yüzünden kare dalgayı doğrudan kullanamıyoruz.\n",
    "# #TypeError: cannot determine truth value of Relational\n",
    "# def f(z,L):\n",
    "#    return 1-2*sym.Heaviside(z-L, 1)\n",
    "\n",
    "nmax = 6\n",
    "L0 = 1\n",
    "lambda_1 = 2*L0\n",
    "k_1 = 2*sym.pi/lambda_1\n",
    "\n",
    "\n",
    "An = [sym.integrate(sym.sin(n*k_1*z), (z, 0, lambda_1/2)) -      # z<lambda_1/2 için F(z) = 1\n",
    "      sym.integrate(sym.sin(n*k_1*z), (z, lambda_1/2, lambda_1)) # z>lambda_1/2 için F(z) = -1 \n",
    "      for n in range(1, nmax)]\n",
    "\n",
    "Bn = [sym.integrate(sym.cos(n*k_1*z), (z, 0, lambda_1/2)) -      # z<lambda_1/2 için F(z) = 1\n",
    "      sym.integrate(sym.cos(n*k_1*z), (z, lambda_1/2, lambda_1)) # z>lambda_1/2 için F(z) = -1 \n",
    "      for n in range(1, nmax)]\n",
    "\n",
    "B0 = sym.integrate(1, (z, 0, lambda_1/2)) - sym.integrate(1, (z, lambda_1/2, lambda_1))\n",
    "\n",
    "print \"Kare dalga için Fourier açılımı katsayıları...\"\n",
    "print \"Kat sayılar analitik integralle bulunmuştur.\"\n",
    "for n in range(0, nmax-1):\n",
    "    print \"A_%s = %10s, B_%s = %10s\"%(n+1, An[n], n+1, Bn[n])"
   ]
  },
  {
   "cell_type": "markdown",
   "metadata": {},
   "source": [
    "Elde edilen bu katsayılarla $F(z)$'nin Fourier serisi açılımı,\n",
    "<br>\n",
    "\\begin{align}\n",
    "\\label{eq:fourier12}\n",
    "F(z) &= \\sum\\limits^{\\infty}_{m=0}\\left[A_m \\sin(m {2\\pi\\over\\lambda_1}z)\\right] \\\\\n",
    "     & = {4\\over\\pi}\\left(\\sin(k_1 z) + {1\\over 3}\\sin(3k_1 z) + {1\\over 5}\\sin(5k_1 z) + \\ldots \\right) \\\\\n",
    "     & = 1.2732 \\sin({\\pi z\\over L} z) + 0.4244\\sin({3\\pi z\\over L} z) + 0.2547\\sin({5\\pi z\\over L} z) + \\ldots \\\\\n",
    "\\end{align}\n",
    "<br>\n",
    "şeklinde olur. Kare dalganın Fourier serisi açılımı için yukarıdaki kat sayılar analitik integralle (SymPy),\n",
    "aşağıdaki katsayılar ise sayısal integralle (SciPy) elde edilmiştir. Aşağıdaki şekilde elde edilen $F(z)$'nin her bir terimi \n",
    "ve kendisi ve $f(z)$ fonksiyonu ayrı ayrı çizdirilmiştir. Bir sonraki şekilde ise $F(z)$ fonksiyonu z'nin daha geniş bir aralığı için\n",
    "tekrar çizdirilmiştir."
   ]
  },
  {
   "cell_type": "code",
   "execution_count": 6,
   "metadata": {
    "ExecuteTime": {
     "end_time": "2019-02-13T11:36:25.863056Z",
     "start_time": "2019-02-13T11:36:25.533980Z"
    },
    "hide_input": false
   },
   "outputs": [
    {
     "data": {
      "image/png": "[encoded data removed]",
      "text/plain": [
       "<Figure size 648x504 with 1 Axes>"
      ]
     },
     "metadata": {
      "needs_background": "light"
     },
     "output_type": "display_data"
    },
    {
     "name": "stdout",
     "output_type": "stream",
     "text": [
      "Kare dalga için Fourier açılımı katsayıları...\n",
      "Kat sayılar sayısal integralle bulunmuştur.\n",
      "A_0 = +0.0000, B_0 = -0.0000\n",
      "A_1 = +1.2732, B_1 = +0.0000\n",
      "A_2 = -0.0000, B_2 = +0.0000\n",
      "A_3 = +0.4244, B_3 = +0.0000\n",
      "A_4 = -0.0000, B_4 = +0.0000\n",
      "A_5 = +0.2547, B_5 = +0.0000\n"
     ]
    }
   ],
   "source": [
    "# herhangi bir f(z) fonksiyonu\n",
    "#fz_yarim = lambda z: np.sin(np.pi*z)*(1.5-np.exp(-100*(z-.45)**2))\n",
    "#\n",
    "#def f(z, L):\n",
    "#    lz = len(z)\n",
    "#    z1 = z[:int(lz/2)]\n",
    "#    fz = fz_yarim(z1)\n",
    "#    return np.append(fz, -fz)\n",
    "\n",
    "\n",
    "# kare dalga\n",
    "def f(z,L):\n",
    "    return 1-2*np.heaviside(z-L, 1)\n",
    "\n",
    "z = np.linspace(0, lambda_1, 1000)\n",
    "\n",
    "nmax = 6\n",
    "L0 = 1\n",
    "lambda_1 = 2*L0\n",
    "k_1 = 2*np.pi/lambda_1\n",
    "\n",
    "An = [scipy.integrate.simps(np.sin(n*k_1*z)*f(z, L0), dx=z[1]-z[0]) for n in range(1, nmax)]\n",
    "Bn = [scipy.integrate.simps(np.cos(n*k_1*z)*f(z, L0), dx=z[1]-z[0]) for n in range(1, nmax)]\n",
    "B0 = scipy.integrate.simps(f(z, L0), dx=z[1]-z[0])\n",
    "\n",
    "An = [0] + An\n",
    "Bn = [B0] + Bn\n",
    "\n",
    "# Fourier serilerini oluştur\n",
    "Ans = [An[n]*np.sin(n*k_1*z) for n in range(0, nmax)]\n",
    "Bns = [Bn[n]*np.cos(n*k_1*z) for n in range(0, nmax)]\n",
    "FFz = sum(Ans)\n",
    "\n",
    "# çizimleri yap\n",
    "plt.figure(figsize=(9, 7))\n",
    "# Sadece n tek olanları çiz, çünkü diğer bütün\n",
    "# An ve Bn'ler sıfırdır.\n",
    "for n in range(1, nmax, 2):\n",
    "    plt.plot(z, Ans[n], label='$A_{%s}$'%n)\n",
    "    #plt.plot(z, Bns[n], label='$A_{%s}$'%n)\n",
    "\n",
    "plt.plot(z, f(z,1), label='f(z)')\n",
    "plt.plot(z, FFz, label='Fourier serisi')\n",
    "plt.axhline(0, color='gray', zorder=-100)\n",
    "plt.xlim(0, lambda_1)\n",
    "plt.ylim(-2,2)\n",
    "plt.xlabel('z')\n",
    "plt.ylabel('Genlik')\n",
    "plt.legend()\n",
    "#plt.gca().xaxis.grid()\n",
    "plt.show()\n",
    "\n",
    "print \"Kare dalga için Fourier açılımı katsayıları...\"\n",
    "print \"Kat sayılar sayısal integralle bulunmuştur.\"\n",
    "for n in range(0, nmax):\n",
    "    print \"A_%s = %+.4f, B_%s = %+.4f\"%(n, An[n], n, Bn[n])"
   ]
  },
  {
   "cell_type": "code",
   "execution_count": 7,
   "metadata": {
    "ExecuteTime": {
     "end_time": "2019-02-13T11:36:26.099355Z",
     "start_time": "2019-02-13T11:36:25.866042Z"
    },
    "hide_input": true
   },
   "outputs": [
    {
     "data": {
      "image/png": "[encoded data removed]",
      "text/plain": [
       "<Figure size 1296x432 with 1 Axes>"
      ]
     },
     "metadata": {
      "needs_background": "light"
     },
     "output_type": "display_data"
    }
   ],
   "source": [
    "z = np.linspace(-1*lambda_1, 1.5*lambda_1, 1000)\n",
    "FFz = sum([An[n]*np.sin(n*k_1*z) for n in range(0,nmax)])\n",
    "\n",
    "plt.figure(figsize=(18, 6))\n",
    "plt.plot(z, FFz)\n",
    "plt.axhline(0, color='gray', zorder=-100)\n",
    "plt.xlim(-2.5, 3.5)\n",
    "plt.ylim(-2,2)\n",
    "plt.xlabel('z')\n",
    "plt.ylabel('F(z)')\n",
    "plt.gca().xaxis.grid()\n",
    "plt.show()"
   ]
  },
  {
   "cell_type": "markdown",
   "metadata": {},
   "source": [
    "### Zaman periyotlu bir $F(t)$ fonksiyonu için Fourier açılımı"
   ]
  },
  {
   "cell_type": "markdown",
   "metadata": {},
   "source": [
    "İpte duran dalgaların kiplerini elde ederken elde ettiğimiz aşağıdaki benzerlikler tablosu,\n",
    "$F(z)$ ve $F(t)$ arasında da mümkündür. \n",
    "<table class='a'>\n",
    "  <tr>\n",
    "    <th>Zaman</th>\n",
    "    <th></th>\n",
    "    <th>Uzay</th>\n",
    "  </tr>\n",
    "  <tr>\n",
    "    <td>$\\omega$</td>\n",
    "    <td>$\\leftrightarrow$</td>\n",
    "    <td>$k$</td>\n",
    "  </tr>\n",
    "  <tr>\n",
    "    <td>$T$</td>\n",
    "    <td>$\\leftrightarrow$</td>      \n",
    "    <td>$\\lambda$</td>\n",
    "  </tr>\n",
    "  <tr>\n",
    "    <td>$\\nu$</td>\n",
    "    <td>$\\leftrightarrow$</td>\n",
    "    <td>$\\sigma$</td>\n",
    "  </tr>    \n",
    "</table>\n",
    "\n",
    "Bu benzerliklerden yola çıkılarak $F(t)$'nin Fourier açılımını elde etmek için gerekli katsayılar aşağıdaki integrallerle elde edilebilir.\n",
    "<br>  \n",
    "\\begin{align}\n",
    "\\label{eq:fourier13}\n",
    "A_m  = {2\\over T_1}\\int\\limits^{t+T_1}_{t} \\sin(m\\omega_1 t) F(t) dt\n",
    "\\end{align}\n",
    "<br>\n",
    "<br>  \n",
    "\\begin{align}\n",
    "\\label{eq:fourier14}\n",
    "B_m  = {2\\over T_1}\\int\\limits^{t+T_1}_{t} \\cos(m\\omega_1 t) F(t) dt\n",
    "\\end{align}\n",
    "<br>\n",
    "\\begin{align}\n",
    "\\label{eq:fourier15}\n",
    "B_0 ={1\\over T_1}\\int\\limits^{t+T_1}_{t} F(t) dt\n",
    "\\end{align}\n"
   ]
  },
  {
   "cell_type": "markdown",
   "metadata": {},
   "source": [
    "###  Tam fonksiyonlar kümesi"
   ]
  },
  {
   "cell_type": "markdown",
   "metadata": {},
   "source": [
    "Fourier açılımındaki F(z) gibi bir fonksiyon başka fonksiyonların uygun katsayılarla üst üste gelmesiyle yazılabiliyorsa, bu \"başka\" fonksiyonlar bir \"tam fonksiyonlar kümesi\" oluştururlar. \n",
    "\n",
    "#### Düzgün kütle yoğunluklu ip\n",
    "\n",
    "Tam fonksiyonlar kümesi tanımına göre,\n",
    "<br>\n",
    "\\begin{align}\n",
    "\\label{eq:tamfonk1}\n",
    "F(z) &= \\sum\\limits^{\\infty}_{m=1} A_m \\sin(m k_1 z)\\\\\n",
    "\\end{align}\n",
    "<br>\n",
    "açılmındaki $\\sin(m k_1 z)$ fonksiyonları bir tam fonksiyonlar kümesi oluştururlar.\n",
    "\n",
    "#### Değişken kütle yoğunluklu ip\n",
    "\n",
    "Kütle yoğunluğu düzgün (her yerde aynı) olmayan bir ipin, $\\rho(z)$ şeklinde z'nin fonksiyonu olan bir yoğunluğu olursa,\n",
    "böyle bir sistem artık klâsik dalga denklemine uymaz. Eğer böyle bir ip için $T_0(z)$ ve $\\rho_0(z)$ biliniyorsa,\n",
    "\n",
    "<br>\n",
    "\\begin{align}\n",
    "\\label{eq:tamfonk2}\n",
    "{\\partial^2 \\psi(z,t)\\over \\partial t^2} = {1\\over \\rho_0(z)}{\\partial \\over \\partial z}\\left[T_0(z){\\partial\\psi(z,t)\\over \\partial z} \\right]\n",
    "\\end{align}\n",
    "<br>\n",
    "\n",
    "gibi bir denklem elde edilir. Bir kipte salınım gerçekleştiğinde bu ip için de, düzgün ipteki gibi, telin her bir parçası aynı frekansa ve faza sahiptir.\n",
    "Böylece bir kip için,\n",
    "\n",
    "<br>\n",
    "\\begin{align}\n",
    "\\label{eq:tamfonk3}\n",
    "\\psi(z,t) = A(z) \\cos(\\omega t + \\phi)\n",
    "\\end{align}\n",
    "<br>\n",
    "\n",
    "gibi bir çözüm önerilebilir.  Bu çözüm yeni dalga denkleminde yerine konursa,\n",
    "\n",
    "<br>\n",
    "\\begin{align}\n",
    "\\label{eq:tamfonk4}\n",
    "{1\\over \\rho_0(z)}{d \\over d z}\\left[T_0(z){d A(z)\\over d z} \\right] = -\\omega^2 A(z)\n",
    "\\end{align}\n",
    "<br>\n",
    "\n",
    "şeklinde, kip şekillenimlerini belirleyecek denklem elde edilmiş olur. Bu elde edilen denkleme göre\n",
    "$T_0(z)$ ve $\\rho_0(z)$ sabit olmadıkları sürece sinüs veya kosinüs davranışlı $A(z)$ genklikleri elde edilemez.\n",
    "Buradan anlaşılıyor ki, iki ucu bağlı bir ipin kip salınımlarından sinüs veya kosinüs davranışı gösteren kipler ortaya çıkıyorsa\n",
    "sistem homojen kütle yoğunluğuna sahiptir. Eğer bu iki nicelik sabit değilse sistem homojen kütle yoğunluklu olmadığı gibi A(z)'lerin\n",
    "davranışları da sinüs veya kosinüs davranışı göstermemektedir.\n",
    "\n",
    "Böyle bir sistemin genel çözümü kipleri cinsinden,\n",
    "<br>\n",
    "\\begin{align}\n",
    "\\label{eq:tamfonk5}\n",
    "\\psi(z, t) &= \\sum\\limits^{\\infty}_{m=1} c_m A_m(z) \\cos(\\omega_m t)\\\\\n",
    "\\end{align}\n",
    "<br>\n",
    "olarak yazılabilir. Başlangıç, t=0, anında,\n",
    "<br>\n",
    "\\begin{align}\n",
    "\\label{eq:tamfonk6}\n",
    "\\psi(z, 0) &= \\sum\\limits^{\\infty}_{m=1} c_m A_m(z) = f(z) \\\\\n",
    "\\end{align}\n",
    "<br>\n",
    "olur. Buradan anlaşılıyor ki, $A_m(z)$ fonksiyonları bir tam fonksiyonlar kümesidir.\n",
    "\n",
    "Bir ipin kütle yoğunluğu için seçenekler sonsuzdur. Bu nedenle tek bir çeşit $A_m(z)$ fonksiyonu yoktur. Sonsuz tane sistem için, tam fonksiyon kümesi oluşturan, sonsuz tane $A_m(z)$ fonksiyonları bulmak mümkündür. Sistemlerin kiplerini tanımlayan bu $A_m(z)$ fonksiyonları açıkladıkları sisteme özel olduklarından, <b><em>öz fonksiyonlar</em></b> olarak da adlandırılırlar. Öz fonksiyonlar sinüs davranışına sahip olduklarında dağınım bağıntısından, $\\omega(k)$, bahsetmek anlamlıdır. Fakat bu tür davranışa sahip olmadıklarında $k$'yi tanımlamak mümkün olmadığından dağınım bağıntısı var olamaz. $A_m(z)$, <b><em>öz fonksiyonlar</em></b> kuantum fiziğinde daha sık karşınıza çıkacaktır."
   ]
  },
  {
   "cell_type": "markdown",
   "metadata": {},
   "source": [
    "## N serbestlik dereceli süreksiz sistemlerin kipleri"
   ]
  },
  {
   "cell_type": "markdown",
   "metadata": {},
   "source": [
    "Daha önce de tartıştığımız gibi gerçek sistemlerin serbestlik dereceleri çok büyük (örneğin Avogadro sayısı kadar ~ $10^{23}$) olsa da sonsuz değildir. Sürelilik ve sonsuz serbestlik derecelilik kabulü yapılarak sonlu serbestlik dereceli sistemin bazı davranışlarını ortaya çıkarmamız mümkün olmamaktadır. Bu kabullerle gerçek ve sonlu bir mekanik sistemin yüksek dereceli kiplerini hesaba katmak mümünkün olmamaktadır. Çünkü yüksek dereceli bu kiplerde bu bölümün başındaki kiplenip şekillerinde görüldüğü üzere zigzaglı bir yapı oluşmaktadır ve bu nedenle süreklilik kaybolmaktadır.\n",
    "\n",
    "Sürekli ve süreksiz sistem arasındaki bir diğer farkta dağınım bağıntılarının davranışındaki farklılıkta ortaya çıkmaktadır. Bunu bir örnek üzerinden tartışacağız. Düzgün kütle yoğunluklu ve iki ucu sabitlenmiş ip sistemi için dağınım fonksiyonu $\\omega = sabit \\times k$ şeklindeydi. Bu tür sistemler <b>dağınımsız</b> olarak adlandırılırlar. $\\omega(k)$ davranışı var olup, doğru orantılı davranış göstermeyen sistemler ise <b>dağınımlı</b> sistemler olarak adlandırılırlar. Örneğin, aşağıda inceleyeceğimiz boncuklu ip sistemi dağınımlı bir sistemdir."
   ]
  },
  {
   "cell_type": "markdown",
   "metadata": {},
   "source": [
    "### Bir ipe dizilmiş boncukların enine salınımları"
   ]
  },
  {
   "cell_type": "markdown",
   "metadata": {},
   "source": [
    "Bir ipe dizilmiş boncuklar için yaptığımız incelemenin doğada başka karşılıkları da bulunabilir. Aşağıda ipte dizili boncuk\n",
    "hali almış iki biyolojik sistem görülmektedir. Birincisinde insan tükürüğü iki parmak arasında asılı durmaktadır. İkincisinde ise \n",
    "bir DNA parçası görülmektedir."
   ]
  },
  {
   "cell_type": "markdown",
   "metadata": {},
   "source": [
    "<table width=\"80%\" height=\"100%\" border=\"1\" class='b'>\n",
    "<tbody>\n",
    "<tr>\n",
    "<td align=\"center\" valign=\"center\">\n",
    "    <img width='30%' src=\"./sekiller/beads_on_a_saliva_biology.jpg\">\n",
    "<p>İpte dizili boncuk hali alan insan tükürüğü.</p></td>\n",
    "<td align=\"center\" valign=\"center\">\n",
    "    <img width='80%' src=\"./sekiller/beads_on_a_string_biology.jpg\">\n",
    "<p>İpte dizili boncuk hali alan bir DNA parçası</p></td>\n",
    "</tr>\n",
    "</tbody>\n",
    "</table>\n"
   ]
  },
  {
   "cell_type": "markdown",
   "metadata": {},
   "source": [
    "<img width='50%' src='./sekiller/beads_on_a_string_berkeley.png'/>"
   ]
  },
  {
   "cell_type": "markdown",
   "metadata": {},
   "source": [
    "Yukarıdaki şekilde [Dalgalar, Berkeley] görüldüğü gibi $a$ aralıklarla dizilmiş $N$ tane boncuklu bir ip sistemini inceleyelim. Bu sistemde boncukların ip üzerinde bulundukları konumları sabittir ve sadece enine (yukarı-aşağı) salınım izinlidir. Boncukların dizildiği ip kütlesiz, boncukların her biri $M$ kütlelidir. İp her iki ucundan sabitlenmiştir ve ip Hooke yasasına uygun esneme kabiliyetine sahiptir. Üstteki şekilde gösterilen $T_0$ denge durumunda ipin boncuklar arasında kalan kısımları üzerindeki gerilim kuvvetleridir.\n",
    "\n",
    "Bu kabullere  ve her bir boncuğun enine yer değiştirmesi de $\\psi_n$'lerle tanımlandığına göre, her bir boncuk üzerindeki toplam kuvveti yazıp, Newton'un ikinci yasasını bu boncuklar için yazabiliriz. Gevşek yay veya küçük açı salınımı yaklaşımlarından biri göz önüne alınırsa, bir boncuğun hareket denklemi,\n",
    "<br>\n",
    "\\begin{align}\n",
    "\\label{eq:sureksiz1}\n",
    "M{d^2\\psi_n(t)\\over dt^2} = T_0{\\psi_{n+1}(t)-\\psi_n(t)\\over a} - T_0{\\psi_{n}(t)-\\psi_{n-1}(t)\\over a}\n",
    "\\end{align}\n",
    "<br> \n",
    "olur. Böyle bir sistemin normal kipinde de, daha önce incelediğimiz sistemler gibi, sistemin her bir elemanı aynı frekans ve faza sahip olacaktır. Bu durumda, her bir boncuk için,\n",
    "<br>\n",
    "\\begin{align}\n",
    "\\label{eq:sureksiz2}\n",
    "\\psi_{1}(t) &= A_{1} \\cos(\\omega t + \\phi) \\\\\n",
    "\\psi_{2}(t) &= A_{2} \\cos(\\omega t + \\phi) \\nonumber \\\\\n",
    "&\\ldots \\nonumber \\\\\n",
    "\\psi_{n-1}(t) &= A_{n-1} \\cos(\\omega t + \\phi) \\nonumber \\\\\n",
    "\\psi_{n}(t) &= A_{n} \\cos(\\omega t + \\phi) \\nonumber \\\\\n",
    "\\psi_{n+1}(t) &= A_{n+1} \\cos(\\omega t + \\phi) \\nonumber \\\\\n",
    "\\end{align}\n",
    "<br>\n",
    "çözümleri önerilebilir. Bu çözümler yukarıdaki hareket denkleminde yerine konursa $A_n$ genlikleri arasında,\n",
    "<br>\n",
    "\\begin{align}\n",
    "\\label{eq:sureksiz3}\n",
    "A_{n+1} + A_{n-1} = A_n\\left(2-{M a \\over T_0}\\omega^2\\right)\n",
    "\\end{align}\n",
    "<br> \n",
    "bağıntısı elde edilir. Elde edilen bu denklem için, sürekli ipin çözümü olan,\n",
    "<br>\n",
    "\\begin{align}\n",
    "\\label{eq:sureksiz4}\n",
    "A(z) = A \\sin(k z)\n",
    "\\end{align}\n",
    "<br> \n",
    "ifadesinden yola çıkarak ve $z = n a$ alarak,\n",
    "<br>\n",
    "\\begin{align}\n",
    "\\label{eq:sureksiz5}\n",
    "A_n = A \\sin(k n a)\n",
    "\\end{align}\n",
    "<br> \n",
    "çözümünü önerebiliriz. Bu çözüm Denk. \\ref{eq:sureksiz3}'te yerine konursa ve gerekli trigonometrik ve cebirsel sadeleştirmeler yapılılırsa,\n",
    "\n"
   ]
  },
  {
   "cell_type": "code",
   "execution_count": 8,
   "metadata": {
    "ExecuteTime": {
     "end_time": "2019-02-13T11:36:26.542933Z",
     "start_time": "2019-02-13T11:36:26.103227Z"
    },
    "hide_input": true
   },
   "outputs": [
    {
     "data": {
      "text/markdown": [
       "$A_{n-1} = A \\sin{\\left (a k \\left(n - 1\\right) \\right )}$"
      ],
      "text/plain": [
       "<IPython.core.display.Markdown object>"
      ]
     },
     "metadata": {},
     "output_type": "display_data"
    },
    {
     "data": {
      "text/markdown": [
       "$A_{n} = A \\sin{\\left (a k n \\right )}$"
      ],
      "text/plain": [
       "<IPython.core.display.Markdown object>"
      ]
     },
     "metadata": {},
     "output_type": "display_data"
    },
    {
     "data": {
      "text/markdown": [
       "$A_{n+1} = A \\sin{\\left (a k \\left(n + 1\\right) \\right )}$"
      ],
      "text/plain": [
       "<IPython.core.display.Markdown object>"
      ]
     },
     "metadata": {},
     "output_type": "display_data"
    },
    {
     "data": {
      "text/markdown": [
       "$\\omega^2 = \\frac{2 T_{0} \\left(- \\cos{\\left (a k \\right )} + 1\\right)}{M a}$"
      ],
      "text/plain": [
       "<IPython.core.display.Markdown object>"
      ]
     },
     "metadata": {},
     "output_type": "display_data"
    }
   ],
   "source": [
    "k, n, m,  a, A = sym.symbols('k, n, m, a, A', real=True)\n",
    "M, T_0, w, C = sym.symbols('M, T_0, w, C', real=True)\n",
    "\n",
    "An = lambda n: A*sym.sin(k*n*a)\n",
    "\n",
    "eq = lambda n: An(n+1) + An(n-1) - An(n)*(2 - M*a*w**2/T_0)\n",
    "\n",
    "sol = sym.solve(sym.exptrigsimp(eq(n)), w**2)[0]\n",
    "\n",
    "display(Markdown('$A_{n-1} = %s$'%sym.latex(An(n-1))))\n",
    "display(Markdown('$A_{n} = %s$'%sym.latex(An(n))))\n",
    "display(Markdown('$A_{n+1} = %s$'%sym.latex(An(n+1))))\n",
    "display(Markdown('$\\omega^2 = %s$'%sym.latex(sol)))"
   ]
  },
  {
   "cell_type": "markdown",
   "metadata": {
    "hide_input": false
   },
   "source": [
    "çözümüne ulaşılır. Önerdiğimiz çözüm $A_n$ denklem sistemini sağladığına göre, her bir boncuğun kip salınımları için,\n",
    "<br>  \n",
    "\\begin{align}\n",
    "\\label{eq:sureksiz6}\n",
    "\\psi_{n}(t) &= A \\sin(k n a) \\cos(\\omega t + \\phi)\n",
    "\\end{align}\n",
    "<br>\n",
    "yazabiliriz. \n",
    "\n",
    "$A_n$ denklem sisteminin çözümünden elde ettiğimiz $\\omega^2$ bağıntısı süreksiz ve sonlu bu sistemin, $\\omega(k)$, dağınım bağıntısını vermektedir. Trigonometrik bir düzenleme yapılarak bu denklem,\n",
    "<br>  \n",
    "\\begin{align}\n",
    "\\label{eq:sureksiz7}\n",
    "\\omega^2 &= {4T_0\\over M a} \\sin^2({k a \\over 2})\n",
    "\\end{align}\n",
    "<br>\n",
    "haline getirilebilir.\n",
    "\n",
    "Sistemin kipleri $\\psi_n$'ler için elde ettiğimiz çözüme $A_n = A \\sin(k n a)$ kabulüyle sadece $z=0$ sınır şartını uygulamış olduk. Çünkü genel çözümdeki,\n",
    "<br>  \n",
    "\\begin{align}\n",
    "\\label{eq:sureksiz8}\n",
    "A_n = A \\sin(k n a) + B \\sin(k n a)\n",
    "\\end{align}\n",
    "<br>\n",
    "$B$ katsayısının sıfır olması durumunu doğrudan hesaba katmış olduk. Geriye $z=L = (N+1) a$ sınır şartını uygulamak kaldı. Bu şartı uygularsak,\n",
    "<br>  \n",
    "\\begin{align}\n",
    "\\label{eq:sureksiz9}\n",
    "A_{(N+1)} = A \\sin(k (N+1) a)  = A \\sin(k L)  = 0\n",
    "\\end{align}\n",
    "<br>\n",
    "olur. Bu durumda sürekli çözümdeki sonucun aynısına ulaşılmış olur. Böylece,\n",
    "<br>  \n",
    "\\begin{align}\n",
    "\\label{eq:sureksiz10}\n",
    "k_1 L = \\pi, k_2 L = 2\\pi, k_3 L = 3\\pi, \\ldots, k_n L = n\\pi, \\ldots, k_N=N\\pi\n",
    "\\end{align}\n",
    "<br>\n",
    "çözümleri elde edilir. Burada $n=1,2,3 \\ldots$ şeklinde tamsayılardır. Buradan elde edilen çözümler,\n",
    "$N\\rightarrow\\infty$ çözümleriyle aynıdır ama bir farkla $N$ burada sonsuz değildir. $N$'den büyük değerler\n",
    "için $N+1, N+2$ vb. gibi çözümler çıksa da $N$ serbestlik dereceli bir sistem için bu çözümler anlamsızdır.\n",
    "\n",
    "Sonlu $N$ serbestlik dereceli sistemin $\\omega(k)$ dağınım bağıntısını bulurken en genel (Denk. ref{eq:sureksiz8}) çözümle de yola çıksaydık,\n",
    "aşağıdaki dağınım bağıntısına (Denk. \\ref{eq:sureksiz7}) ulaşılırdı. Sürekli ipin ve süreksiz boncuklu sistemin dağınım bağıntılarının grafikleri \n",
    "aşağıdaki şekilde karşılaştırmalı olarak çizdirilmiştir. Şeklin hemen altındaysa $\\nu_1$ taban durum frekansından sonra gelen diğer kiplere ait frekanslar\n",
    "$\\nu_1$'in katları olarak hesaplanmıştır. Daha önce tartıştığımız üzere süreksiz ve sonlu serbestlik dereceli bu sistem <b>harmonik</b> bir diziye sahip değildir.\n",
    "Dağınım bağıntısının grafiğinin hemen altında ise 5 boncuklu süreksiz sistemin kipleri çizilmiştir.\n"
   ]
  },
  {
   "cell_type": "code",
   "execution_count": 9,
   "metadata": {
    "ExecuteTime": {
     "end_time": "2019-02-13T11:36:27.311800Z",
     "start_time": "2019-02-13T11:36:26.546808Z"
    },
    "hide_input": true
   },
   "outputs": [
    {
     "data": {
      "text/markdown": [
       "$A_{n-1} = A \\sin{\\left (a k \\left(n - 1\\right) \\right )} + B \\cos{\\left (a k \\left(n - 1\\right) \\right )}$"
      ],
      "text/plain": [
       "<IPython.core.display.Markdown object>"
      ]
     },
     "metadata": {},
     "output_type": "display_data"
    },
    {
     "data": {
      "text/markdown": [
       "$A_{n} = A \\sin{\\left (a k n \\right )} + B \\cos{\\left (a k n \\right )}$"
      ],
      "text/plain": [
       "<IPython.core.display.Markdown object>"
      ]
     },
     "metadata": {},
     "output_type": "display_data"
    },
    {
     "data": {
      "text/markdown": [
       "$A_{n+1} = A \\sin{\\left (a k \\left(n + 1\\right) \\right )} + B \\cos{\\left (a k \\left(n + 1\\right) \\right )}$"
      ],
      "text/plain": [
       "<IPython.core.display.Markdown object>"
      ]
     },
     "metadata": {},
     "output_type": "display_data"
    },
    {
     "data": {
      "text/markdown": [
       "$\\omega^2 = \\frac{2 T_{0} \\left(- \\cos{\\left (a k \\right )} + 1\\right)}{M a}$"
      ],
      "text/plain": [
       "<IPython.core.display.Markdown object>"
      ]
     },
     "metadata": {},
     "output_type": "display_data"
    }
   ],
   "source": [
    "k, n, m,  a, A, B = sym.symbols('k, n, m, a, A, B', real=True)\n",
    "M, T_0, w, C = sym.symbols('M, T_0, w, C', real=True)\n",
    "\n",
    "An = lambda n: A*sym.sin(k*n*a) + B*sym.cos(k*n*a)\n",
    "\n",
    "eq = lambda n: An(n+1) + An(n-1) - An(n)*(2 - M*a*w**2/T_0)\n",
    "\n",
    "sol = sym.solve(sym.exptrigsimp(eq(n)), w**2)[0]\n",
    "\n",
    "display(Markdown('$A_{n-1} = %s$'%sym.latex(An(n-1))))\n",
    "display(Markdown('$A_{n} = %s$'%sym.latex(An(n))))\n",
    "display(Markdown('$A_{n+1} = %s$'%sym.latex(An(n+1))))\n",
    "display(Markdown('$\\omega^2 = %s$'%sym.latex(sol)))\n"
   ]
  },
  {
   "cell_type": "code",
   "execution_count": 10,
   "metadata": {
    "ExecuteTime": {
     "end_time": "2019-02-13T11:36:27.488797Z",
     "start_time": "2019-02-13T11:36:27.315686Z"
    },
    "hide_input": true
   },
   "outputs": [
    {
     "data": {
      "image/png": "[encoded data removed]",
      "text/plain": [
       "<Figure size 432x288 with 1 Axes>"
      ]
     },
     "metadata": {
      "needs_background": "light"
     },
     "output_type": "display_data"
    },
    {
     "data": {
      "text/markdown": [
       "$\\nu_{1} = {\\omega_1 \\over 2\\pi}$, $\\lambda_{1} = 2 L$"
      ],
      "text/plain": [
       "<IPython.core.display.Markdown object>"
      ]
     },
     "metadata": {},
     "output_type": "display_data"
    },
    {
     "data": {
      "text/markdown": [
       "$\\nu_{2} = 1.9319 \\nu_1$, $\\lambda_{2} = {1 \\over 2} \\lambda_1$"
      ],
      "text/plain": [
       "<IPython.core.display.Markdown object>"
      ]
     },
     "metadata": {},
     "output_type": "display_data"
    },
    {
     "data": {
      "text/markdown": [
       "$\\nu_{3} = 2.7321 \\nu_1$, $\\lambda_{3} = {1 \\over 3} \\lambda_1$"
      ],
      "text/plain": [
       "<IPython.core.display.Markdown object>"
      ]
     },
     "metadata": {},
     "output_type": "display_data"
    },
    {
     "data": {
      "text/markdown": [
       "$\\nu_{4} = 3.3461 \\nu_1$, $\\lambda_{4} = {1 \\over 4} \\lambda_1$"
      ],
      "text/plain": [
       "<IPython.core.display.Markdown object>"
      ]
     },
     "metadata": {},
     "output_type": "display_data"
    },
    {
     "data": {
      "text/markdown": [
       "$\\nu_{5} = 3.7321 \\nu_1$, $\\lambda_{5} = {1 \\over 5} \\lambda_1$"
      ],
      "text/plain": [
       "<IPython.core.display.Markdown object>"
      ]
     },
     "metadata": {},
     "output_type": "display_data"
    }
   ],
   "source": [
    "Nboncuk = 5.\n",
    "T_0 = 1. # N\n",
    "a = 1./100. # m\n",
    "M = 2./1000. # kg\n",
    "L0 = (Nboncuk+1.)*a # m - ipin toplam uzunluğu\n",
    "\n",
    "kmax = (Nboncuk + 1)*np.pi/L0\n",
    "kd = np.linspace(0, kmax) # rad/m\n",
    "n_kip = np.arange(1, Nboncuk+1)\n",
    "kn_kip = n_kip * np.pi/L0\n",
    "\n",
    "wd = np.sqrt(T_0*a/M) * kd\n",
    "wdd = lambda k: 2.*np.sqrt(T_0/M/a) * np.sin(k*a/2.)\n",
    "\n",
    "plt.plot(kd, wd, color='red', label=ur'dağınımsız')\n",
    "plt.plot(kd, wdd(kd), color='blue', label=ur'dağınımlı')\n",
    "plt.plot(kn_kip, wdd(kn_kip), 'o', color='blue')\n",
    "\n",
    "plt.grid()\n",
    "plt.legend(loc='best')\n",
    "plt.rc('axes',edgecolor='black')\n",
    "plt.xlabel(r'$k$ (rad/m)', fontsize=20)\n",
    "plt.ylabel(r'$\\omega$ (rad/s)', fontsize=20)\n",
    "plt.show()\n",
    "\n",
    "display(Markdown(r'$\\nu_{1} = {\\omega_1 \\over 2\\pi}$, $\\lambda_{1} = 2 L$'))\n",
    "for i in n_kip[:-1]:\n",
    "    ii = int(i)\n",
    "    display(Markdown(r'$\\nu_{%s} = %.4f \\nu_1$, $\\lambda_{%s} = {1 \\over %s} \\lambda_1$'%(ii+1, wdd(kn_kip[ii])/wdd(kn_kip[0]), ii+1, ii+1)))"
   ]
  },
  {
   "cell_type": "code",
   "execution_count": 11,
   "metadata": {
    "ExecuteTime": {
     "end_time": "2019-02-13T11:36:27.813434Z",
     "start_time": "2019-02-13T11:36:27.490833Z"
    },
    "hide_input": true
   },
   "outputs": [
    {
     "data": {
      "image/png": "[encoded data removed]",
      "text/plain": [
       "<Figure size 432x864 with 1 Axes>"
      ]
     },
     "metadata": {
      "needs_background": "light"
     },
     "output_type": "display_data"
    }
   ],
   "source": [
    "psi_String = lambda n, x: np.sin(n*np.pi*x)\n",
    "\n",
    "nodeList = [0, 1, 2, 3, 4, 5]\n",
    "\n",
    "plt.figure(figsize=(6,12))\n",
    "plt.rc('axes',edgecolor='white')\n",
    "\n",
    "# nodes with many mass\n",
    "n_mass=5\n",
    "x = np.linspace(0, 1, n_mass+2)\n",
    "for nodes in nodeList:\n",
    "    y0 = 3.5*nodes\n",
    "    plt.axhline(y=y0, color='gray', zorder=-100)\n",
    "    plt.plot(x, psi_String(nodes, x) + y0, color='red', lw=2)\n",
    "    plt.plot(x[1:-1], psi_String(nodes, x[1:-1]) + y0, 'o', color='blue', lw=2)\n",
    "\n",
    "plt.plot([0,0], [-0.1, 19.1], color='black', lw=5)\n",
    "plt.bar(-0.05, 19.1, .05, hatch='/', color='white')\n",
    "plt.plot([1,1], [-0.1, 19.1], color='black', lw=5)\n",
    "plt.bar(1, 19.1, .05, hatch='\\\\', color='white')\n",
    "    \n",
    "plt.text(-0.05, -0.5, u'0', fontsize=24)\n",
    "plt.text(1.00, -0.5, u'L', fontsize=24)\n",
    "plt.text(0.07, 0.5, u'Denge (Taban) Durumu', fontsize=20)\n",
    "plt.text(0.35, 2.7, u'$\\lambda_1 = 2 L$', fontsize=24)\n",
    "plt.text(0.35, 6.1, u'$\\lambda_2 = L$', fontsize=24)\n",
    "plt.text(0.35, 8.8, u'$\\lambda_3 = {2L/3}$', fontsize=24)\n",
    "plt.text(0.35, 12.4, u'$\\lambda_4 = {L/2}$', fontsize=24)\n",
    "plt.text(0.35, 16.0, u'$\\lambda_5 = {2L/5}$', fontsize=24)\n",
    "plt.text(-0.05, -1.1, u'Beş boncuklu süreksiz sistemin kipleri', fontsize=16)\n",
    "\n",
    "plt.axis('off')\n",
    "plt.xlim(-0.1, 1.1)\n",
    "plt.ylim(-0.1, 19.1)\n",
    "#plt.savefig('./sekiller/uclari_bagli_ipin_kipleri.svg')\n",
    "plt.show()"
   ]
  },
  {
   "cell_type": "markdown",
   "metadata": {},
   "source": [
    "### Süreklilik veya uzun dalgaboyu yaklaşıklığı"
   ]
  },
  {
   "cell_type": "markdown",
   "metadata": {},
   "source": [
    "Eğer $z\\in[0,L]$ aralığındaki boncuk sayısı sonsuz kabul edilirse veya $a<<\\lambda$ ise süreksiz boncuklu ipte, sürekli ip davranışına geçilir. Çünkü\n",
    "boncuk sayısı arttıkça veya $a<<\\lambda$ olduğunda boncuklar arası $a$ mesafesi sıfıra gidecektir. Bu durumda,\n",
    "<br>   \n",
    "\\begin{align}\n",
    "\\label{eq:sureklilik1}\n",
    "\\omega^2 &= {4T_0\\over M a} \\sin^2({k a \\over 2})\n",
    "\\end{align}\n",
    "<br>\n",
    "bağıntısı, $\\sin^2({k a \\over 2})\\eqsim {k a \\over 2}$ olacağından,\n",
    "<br>   \n",
    "\\begin{align}\n",
    "\\label{eq:sureklilik2}\n",
    "\\omega^2 &\\eqsim {4T_0\\over M a} ({k a \\over 2})^2\n",
    "\\end{align}\n",
    "<br>\n",
    "halini alır. Sürekli ipe geçiş durumunda $M/a\\equiv \\rho_0$ tanımı yapılabilir. Gerekli sadeleştirmeler de yapıldığında,\n",
    "<br>   \n",
    "\\begin{align}\n",
    "\\label{eq:sureklilik3}\n",
    "\\omega^2 &\\eqsim {T_0\\over \\rho_0} k^2\n",
    "\\end{align}\n",
    "<br>\n",
    "sonucuna ulaşılacağı açıktır. Elde edilen bu sonuç sürekli ipin dağınım bağıntısıyla aynıdır."
   ]
  },
  {
   "cell_type": "markdown",
   "metadata": {},
   "source": [
    "### Yaylar ve kütleler sisteminin boyuna salınımları"
   ]
  },
  {
   "cell_type": "markdown",
   "metadata": {},
   "source": [
    "<img width='50%' src='./sekiller/kutleler_ve_yaylar_boyuna_salinim.png'/>"
   ]
  },
  {
   "cell_type": "markdown",
   "metadata": {},
   "source": [
    "Bu sistemi inceleyerek daha ileride işleyeceğimiz ses dalgaları kavramına da hazırlık yapmış oluyoruz. Çünkü ses dalgaları boyuna titreşimlerin bir sonucudur. Bu sistemin iki kütleli halini daha önce çalışmıştık. Sistemin o hali tekrar hatırlanırsa şekildeki herhangi bir kütle için,\n",
    "<br>\n",
    "\\begin{align}\n",
    "\\label{eq:kutlelerYaylar1}\n",
    "M{d^2\\psi_n(t)\\over dt^2} = K(\\psi_{n+1}-\\psi_{n}) -  K(\\psi_{n}-\\psi_{n-1})\n",
    "\\end{align}\n",
    "<br>\n",
    "ifadesinin Newtonun ikinci yasasından elde edilebileceği anlaşılabilir. Elde edilen bu denklem açıkca enine salınımdaki denklemle benzeşmektedir. Tek fark $T_0/a$ yerine $K$ gelmiştir. Bu benzetimden faydalanarak, bu sistem için dağınım bağıntısının,\n",
    "<br>\n",
    "\\begin{align}\n",
    "\\label{eq:kutlelerYaylar2}\n",
    "\\omega(k) = 2\\sqrt{K/M}\\sin({k a\\over 2})= 2\\sqrt{K/M}\\sin({\\pi a\\over \\lambda})\n",
    "\\end{align}\n",
    "<br>\n",
    "şeklinde olacağını göstermek kolaydır. Enine salınımlar için geçerli sınır şartları burada da varlığını korumaktadır. Bu yüzden $z=L$ sınır şartından faydalanılarak açısal dalga sayısı için,\n",
    "<br>  \n",
    "\\begin{align}\n",
    "\\label{eq:kutlelerYaylar3}\n",
    "k_1 L = \\pi, k_2 L = 2\\pi, k_3 L = 3\\pi, \\ldots, k_n L = n\\pi, \\ldots, k_N=N\\pi\n",
    "\\end{align}\n",
    "<br>\n",
    "davranışı bulunur. Böylece bu sistem için de her bir kip,\n",
    "<br>  \n",
    "\\begin{align}\n",
    "\\label{eq:kutlelerYaylar4}\n",
    "\\psi_{n}(t) &= A \\sin(k n a) \\cos(\\omega t + \\phi)\n",
    "\\end{align}\n",
    "<br>\n",
    "şeklinde olacaktır."
   ]
  },
  {
   "cell_type": "markdown",
   "metadata": {},
   "source": [
    "### Birim uzunluk başına ters yay sabiti ($K^{-1}$)"
   ]
  },
  {
   "cell_type": "markdown",
   "metadata": {},
   "source": [
    "Boncuklu ip sisteminin enine salınımlarını çalışırken, süreklilik limitinde boncuklar arası mesafe $a$'nın sıfıra gittiğini kabul etmiştik. Aynı sistemi bir başka şekilde de modellemek mümkündür. Boncuklardaki kütlelerin Hooke yasasına uyan ipler üzerine dağıtılğını düşünelim. Bu durumda artık noktasal boncuk kütleleri yerine, ip üzerine dağıtılmış sürekli bir kütle sistemi söz konusudur. Artık $a$ boncuklar arası uzaklık değil, kütleli ip parçalarının uzunluğudur. Eğer bu bu ip parçalarından $N$ tane varsa, ipin toplam kütlesi $\\sum M = N M$ ve toplam uzunluğu $\\sum L = N a$ olur. İpin her bir parçası için, Hooke yasasına uyan yaylar gibi davrandıklarından, $K$ gibi bir yay sabiti tanımlamak mümkündür. $L$ uzunluğundaki bütün ipin yay sabiti ise $K_L = {K\\over N}$ olacaktır. Bu formülü biraz daha incelersek,\n",
    "<br>\n",
    "\\begin{align}\n",
    "\\label{eq:tersYaySabiti1}\n",
    "K_L = {1\\over N} K = {a\\over Na} K = {a\\over L} K\n",
    "\\end{align}\n",
    "<br>\n",
    "elde ederiz. Bunu yeniden düzenlersek,\n",
    "<br>\n",
    "\\begin{align}\n",
    "\\label{eq:tersYaySabiti2}\n",
    "K_L L = K a \\\\\n",
    "{K_L^{-1}\\over L} = {K^{-1}\\over a} \\\\\n",
    "\\end{align}\n",
    "<br>\n",
    "ifadelerini elde ederiz. Elde edilen ikinci ifadedeki ${K^{-1}\\over a}$ kısım birim uzunluk başına ters yay sabiti olarak adlandırılır. Yeni tanımlanan bu sabit ip toplam uzunluğu $L$'den bağımsızdır. Sürekli ipin kütle yoğunluğunu, $\\rho_0 = \\Delta m/\\Delta z$ şeklinde tanımlayarak, nasıl uzunluktan bağımsız düşünebiliyorsak, yeni tanımlanan bu fiziksel nicelikte benzeri bir kullanışa sahiptir. Yani ipin (veya yayın) uzunluğundan bağımsız olarak ipin (veya) yayın ne kadar iyi bir yay olup olmadığının bir ölçüsü olarak kullanılabilir. "
   ]
  },
  {
   "cell_type": "markdown",
   "metadata": {},
   "source": [
    "### Gevşek yay (Slinky)"
   ]
  },
  {
   "cell_type": "markdown",
   "metadata": {},
   "source": [
    "<img width='30%' src='./sekiller/Slinky_rainbow.jpg'/>"
   ]
  },
  {
   "cell_type": "markdown",
   "metadata": {},
   "source": [
    "Şekildeki gibi bir gevşek yayı düşünecek olursak, her bir halkası yaklaşık 7 cm civarıda çapa sahiptir. Yayın serbest (gergin olmayan) halinin uzunluğu 6 cm civarındadadır ve yay yaklaşık 100 sarıma sahiptir. Böyle bir yay L= 1 m olacak kadar uzatıldığı halde Hooke yasasına uymaya devam edebiliyorsa, bu tür bir yay <b>Gevşey yay</b> olarak adlandırılır. Örnek şekilden de görüleceği üzere böyle bir yay da kütle çeşitli bölgelerde öbeklenmemiş, düzgün bir şekilde dağılmıştır. Bu durumda böyle bir yay için $K^{-1}\\over a$ sabiti tanımlanabilir ve bu yay süreklilik şartlarını sağlar. Böylece bu yayın enine ve boyuna salınımlarının dağınım bağıntıları sırasıyla boncuklu ipin enine ve boyuna salınımlarının dağınım bağınıtılarının süreklilik sınırındaki halleri olacaktır. Boyuna salınan boncuklu ipin süreksiz dağınım bağıntısı ve süreklilik sınırındaki hali aşağıdaki gibidir.\n",
    "\\begin{align}\n",
    "\\label{eq:slinky1}\n",
    "\\omega(k) = 2\\sqrt{K/M}\\sin({k a\\over 2}) \\eqsim 2\\sqrt{K/M} {k a\\over 2} = \\sqrt{Ka\\over M/a} k\n",
    "\\end{align}\n",
    "Enine salınımlar için \n",
    "\\begin{align}\n",
    "\\label{eq:slinky2}\n",
    "\\omega(k) \\eqsim \\sqrt{T_0\\over \\rho_0} k = \\sqrt{Ka\\over M/a} k\n",
    "\\end{align}\n",
    "olacaktır. Buradan anlaşılacağı üzere gevşek yayın enine ve boyuna salınımlarının dağınım bağıntıları aynıdır. Dolayısıyla böyle bir yay $x, y, z$ doğrultularından herhangi birinde iki ucu sabitlenirse, sabitlendiği eksene göre olan enine veya boyuna salınım kipleri aynıdır ve salınım frekansları da aynıdır."
   ]
  },
  {
   "cell_type": "markdown",
   "metadata": {},
   "source": [
    "### LC örgüsü"
   ]
  },
  {
   "cell_type": "markdown",
   "metadata": {},
   "source": [
    "Yazılacak..."
   ]
  },
  {
   "cell_type": "markdown",
   "metadata": {},
   "source": [
    "<img width='50%' src=\"./sekiller/LC_ladder_circuit.svg\" />"
   ]
  },
  {
   "cell_type": "markdown",
   "metadata": {},
   "source": [
    "### Çiftlenimli Sarkaçlar"
   ]
  },
  {
   "cell_type": "markdown",
   "metadata": {},
   "source": [
    "Yazılacak..."
   ]
  },
  {
   "cell_type": "markdown",
   "metadata": {},
   "source": [
    "### Plazma salınımları"
   ]
  },
  {
   "cell_type": "markdown",
   "metadata": {},
   "source": [
    "Yazılacak..."
   ]
  },
  {
   "cell_type": "markdown",
   "metadata": {
    "hide_input": true
   },
   "source": [
    "## Kaynaklar\n",
    "\n",
    "Düzenlenecek... Düzenlenecek... Düzenlenecek...\n",
    "\n",
    "1. https://www.britannica.com/science/natural-vibration\n",
    "2. [Deep Interior of the Earth, J.A. Jacobs](https://books.google.com.tr/books?id=Pmh-j_EoDqMC&lpg=PA29&ots=YhFCrrb01h&dq=earth%200t2%20vibration&hl=tr&pg=PA30#v=onepage&q=earth%200t2%20vibration&f=false)\n",
    "\n",
    "\n",
    "[String Standing Waves, HyperPhysics](http://hyperphysics.phy-astr.gsu.edu/hbase/Waves/wavstd.html#c1)\n",
    "\n",
    "[Traveling Wave Solution for String, HyperPhysics](http://hyperphysics.phy-astr.gsu.edu/hbase/Waves/wavsol.html#c2)\n",
    "\n",
    "https://en.wikipedia.org/wiki/String_vibration\n",
    "\n",
    "https://commons.wikimedia.org/wiki/File:Periodampwave.svg\n",
    "\n",
    "https://commons.wikimedia.org/wiki/File:StringParameters.svg\n",
    "\n",
    "[beads on a string] https://phys.org/news/2010-06-solution-beading-saliva-mystery-purposes.html\n",
    "\n",
    "https://upload.wikimedia.org/wikipedia/commons/b/bf/Slinky_rainbow.jpg\n",
    "\n",
    "LC ladder https://en.wikipedia.org/wiki/Roll-off\n",
    "\n",
    "http://webpages.ursinus.edu/lriley/courses/p212/lectures/node6.html\n",
    "\n",
    "http://farside.ph.utexas.edu/teaching/315/Waves/node23.html"
   ]
  },
  {
   "cell_type": "markdown",
   "metadata": {
    "hide_input": true
   },
   "source": []
  },
  {
   "cell_type": "code",
   "execution_count": null,
   "metadata": {},
   "outputs": [],
   "source": []
  }
 ],
 "metadata": {
  "hide_input": false,
  "kernelspec": {
   "display_name": "Python 2",
   "language": "python",
   "name": "python2"
  },
  "language_info": {
   "codemirror_mode": {
    "name": "ipython",
    "version": 2
   },
   "file_extension": ".py",
   "mimetype": "text/x-python",
   "name": "python",
   "nbconvert_exporter": "python",
   "pygments_lexer": "ipython2",
   "version": "2.7.15rc1"
  },
  "toc": {
   "base_numbering": 1,
   "nav_menu": {
    "height": "263px",
    "width": "349px"
   },
   "number_sections": true,
   "sideBar": true,
   "skip_h1_title": false,
   "title_cell": "İçindekiler",
   "title_sidebar": "Contents",
   "toc_cell": true,
   "toc_position": {
    "height": "931px",
    "left": "0px",
    "right": "793px",
    "top": "32px",
    "width": "164px"
   },
   "toc_section_display": "block",
   "toc_window_display": true
  },
  "varInspector": {
   "cols": {
    "lenName": 16,
    "lenType": 16,
    "lenVar": 40
   },
   "kernels_config": {
    "python": {
     "delete_cmd_postfix": "",
     "delete_cmd_prefix": "del ",
     "library": "var_list.py",
     "varRefreshCmd": "print(var_dic_list())"
    },
    "r": {
     "delete_cmd_postfix": ") ",
     "delete_cmd_prefix": "rm(",
     "library": "var_list.r",
     "varRefreshCmd": "cat(var_dic_list()) "
    }
   },
   "types_to_exclude": [
    "module",
    "function",
    "builtin_function_or_method",
    "instance",
    "_Feature"
   ],
   "window_display": false
  },
  "widgets": {
   "application/vnd.jupyter.widget-state+json": {
    "state": {},
    "version_major": 2,
    "version_minor": 0
   }
  }
 },
 "nbformat": 4,
 "nbformat_minor": 2
}
