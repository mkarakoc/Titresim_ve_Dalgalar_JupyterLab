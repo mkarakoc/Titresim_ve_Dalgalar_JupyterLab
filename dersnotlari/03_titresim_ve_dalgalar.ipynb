{
 "cells": [
  {
   "cell_type": "markdown",
   "metadata": {
    "toc": "true"
   },
   "source": [
    "<h1>İçindekiler<span class=\"tocSkip\"></span></h1>\n",
    "<div class=\"toc\"><ul class=\"toc-item\"><li><span><a href=\"#Zoruna-Salınımlar-ve-Rezonans\" data-toc-modified-id=\"Zoruna-Salınımlar-ve-Rezonans-1\"><span class=\"toc-item-num\">1&nbsp;&nbsp;</span>Zoruna Salınımlar ve Rezonans</a></span><ul class=\"toc-item\"><li><span><a href=\"#Giriş\" data-toc-modified-id=\"Giriş-1.1\"><span class=\"toc-item-num\">1.1&nbsp;&nbsp;</span>Giriş</a></span></li><li><span><a href=\"#Bir-boyutlu-sönümlü-harmonik-salınıcının-zoruna-salınımı\" data-toc-modified-id=\"Bir-boyutlu-sönümlü-harmonik-salınıcının-zoruna-salınımı-1.2\"><span class=\"toc-item-num\">1.2&nbsp;&nbsp;</span>Bir boyutlu sönümlü harmonik salınıcının zoruna salınımı</a></span><ul class=\"toc-item\"><li><span><a href=\"#Serbest-sönümlü-salınım-durumu-$F(t)-=-0$\" data-toc-modified-id=\"Serbest-sönümlü-salınım-durumu-$F(t)-=-0$-1.2.1\"><span class=\"toc-item-num\">1.2.1&nbsp;&nbsp;</span>Serbest sönümlü salınım durumu $F(t) = 0$</a></span></li><li><span><a href=\"#Harmonik-sürücü-kuvvet-etkisinde-kararlı-durum-salınımı\" data-toc-modified-id=\"Harmonik-sürücü-kuvvet-etkisinde-kararlı-durum-salınımı-1.2.2\"><span class=\"toc-item-num\">1.2.2&nbsp;&nbsp;</span>Harmonik sürücü kuvvet etkisinde kararlı durum salınımı</a></span></li><li><span><a href=\"#Soğrucu-ve-esnek-genlik\" data-toc-modified-id=\"Soğrucu-ve-esnek-genlik-1.2.3\"><span class=\"toc-item-num\">1.2.3&nbsp;&nbsp;</span>Soğrucu ve esnek genlik</a></span></li><li><span><a href=\"#Rezonans\" data-toc-modified-id=\"Rezonans-1.2.4\"><span class=\"toc-item-num\">1.2.4&nbsp;&nbsp;</span>Rezonans</a></span></li><li><span><a href=\"#Esnek-genliğin-frekansla-değişimi\" data-toc-modified-id=\"Esnek-genliğin-frekansla-değişimi-1.2.5\"><span class=\"toc-item-num\">1.2.5&nbsp;&nbsp;</span>Esnek genliğin frekansla değişimi</a></span></li><li><span><a href=\"#Rezonans-eğrileri\" data-toc-modified-id=\"Rezonans-eğrileri-1.2.6\"><span class=\"toc-item-num\">1.2.6&nbsp;&nbsp;</span>Rezonans eğrileri</a></span></li><li><span><a href=\"#Geçici-durumda-zoruna-salınım\" data-toc-modified-id=\"Geçici-durumda-zoruna-salınım-1.2.7\"><span class=\"toc-item-num\">1.2.7&nbsp;&nbsp;</span>Geçici durumda zoruna salınım</a></span></li><li><span><a href=\"#Durgun-durum-başlangıç-şartı\" data-toc-modified-id=\"Durgun-durum-başlangıç-şartı-1.2.8\"><span class=\"toc-item-num\">1.2.8&nbsp;&nbsp;</span>Durgun durum başlangıç şartı</a></span><ul class=\"toc-item\"><li><span><a href=\"#Sürücü-ve-doğal-salınım-frekansının-eşit-olması-durumu\" data-toc-modified-id=\"Sürücü-ve-doğal-salınım-frekansının-eşit-olması-durumu-1.2.8.1\"><span class=\"toc-item-num\">1.2.8.1&nbsp;&nbsp;</span>Sürücü ve doğal salınım frekansının eşit olması durumu</a></span></li><li><span><a href=\"#Sönümsüz-durum-ve-bitmeyen-vurular\" data-toc-modified-id=\"Sönümsüz-durum-ve-bitmeyen-vurular-1.2.8.2\"><span class=\"toc-item-num\">1.2.8.2&nbsp;&nbsp;</span>Sönümsüz durum ve bitmeyen vurular</a></span></li><li><span><a href=\"#Geçici-vurular\" data-toc-modified-id=\"Geçici-vurular-1.2.8.3\"><span class=\"toc-item-num\">1.2.8.3&nbsp;&nbsp;</span>Geçici vurular</a></span></li></ul></li></ul></li><li><span><a href=\"#İki-serbestlik-dereceli-sistemlerde-rezonanslar\" data-toc-modified-id=\"İki-serbestlik-dereceli-sistemlerde-rezonanslar-1.3\"><span class=\"toc-item-num\">1.3&nbsp;&nbsp;</span>İki serbestlik dereceli sistemlerde rezonanslar</a></span></li></ul></li><li><span><a href=\"#Aşağıdaki-ifade-silinebilir....-veya-değiştirilebilir...\" data-toc-modified-id=\"Aşağıdaki-ifade-silinebilir....-veya-değiştirilebilir...-2\"><span class=\"toc-item-num\">2&nbsp;&nbsp;</span>Aşağıdaki ifade silinebilir.... veya değiştirilebilir...</a></span><ul class=\"toc-item\"><li><span><a href=\"#Kaynaklar\" data-toc-modified-id=\"Kaynaklar-2.1\"><span class=\"toc-item-num\">2.1&nbsp;&nbsp;</span>Kaynaklar</a></span></li></ul></li></ul></div>"
   ]
  },
  {
   "cell_type": "code",
   "execution_count": 1,
   "metadata": {
    "ExecuteTime": {
     "end_time": "2019-02-13T11:37:54.597894Z",
     "start_time": "2019-02-13T11:37:53.854613Z"
    },
    "hide_input": false
   },
   "outputs": [
    {
     "data": {
      "text/html": [
       "\n",
       "    <b>\n",
       "    <font size=\"6\" face='bold' color=\"blue\">TİTREŞİM ve DALGAR / FİZ220 </font> \n",
       "    <br><br>\n",
       "    <font size=\"5\">Doç. Dr. Mesut Karakoç </font>\n",
       "    </b>\n",
       "    <br><br>\n",
       "    <font size=\"4\" color=\"black\"> \n",
       "    Akdeniz Üniversitesi, Fen Fakültesi, Fizik Bölümü \n",
       "    <br>    \n",
       "    2018 - 2019 Bahar Dönemi \n",
       "    </font>\n",
       "    <br>\n",
       "    "
      ],
      "text/plain": [
       "<IPython.core.display.HTML object>"
      ]
     },
     "metadata": {},
     "output_type": "display_data"
    },
    {
     "data": {
      "text/html": [
       "\n",
       "    <!-- ******************************************************** -->\n",
       "    <!-- **************** Kod hücrelerini sakla ***************** -->\n",
       "    <!-- ******************************************************** -->\n",
       "    <!-- https://stackoverflow.com/questions/31517194/how-to-hide-one-specific-cell-input-or-output-in-ipython-notebook -->\n",
       "    <script> \n",
       "    code_show=true; \n",
       "    function code_toggle() {\n",
       "        if (code_show){$('div.input').hide();} else {$('div.input').show();}\n",
       "        if (code_show){$('div.cell.code_cell.rendered.selected div.input').hide();} \n",
       "        else          {$('div.cell.code_cell.rendered.selected div.input').hide();}\n",
       "        code_show = !code_show }\n",
       "    $(document).ready(code_toggle);\n",
       "    </script>\n",
       "    \n",
       "    <a href=\"javascript:code_toggle()\" style=\"text-decoration:none\" \n",
       "    class=\"btn btn-default btn-danger btn-large fa fa-toggle-on\">\n",
       "    &nbsp;&nbsp;&nbsp; Kod hücrelerini, KAPAT / AÇ! </a>\n",
       "    <!-- ######################################################### -->\n",
       "    <!-- ######################################################### -->\n",
       "    \n",
       "    <!-- ********************************************************* -->\n",
       "    <!-- ****** Trusted Notebookları başlangıçta çalıştır   ****** -->\n",
       "    <!-- ****** jupyter trust *.ipynb                       ****** -->\n",
       "    <!-- ****** ile bütün notebooklar güvenilir yapılabilir.****** -->\n",
       "    <!-- ********************************************************* -->\n",
       "    <!--https://stackoverflow.com/questions/31984196/ipython-notebook-run-all-cells-on-open -->\n",
       "    <script>\n",
       "        // AUTORUN ALL CELLS ON NOTEBOOK-LOAD!\n",
       "        require(\n",
       "            ['base/js/namespace', 'jquery'], \n",
       "            function(jupyter, $) {\n",
       "                $(jupyter.events).on(\"kernel_ready.Kernel\", function () {\n",
       "                    console.log(\"Auto-running all cells-below...\");\n",
       "                    jupyter.actions.call('jupyter-notebook:run-all-cells-below');\n",
       "                 // jupyter.actions.call('jupyter-notebook:save-notebook');\n",
       "                });\n",
       "            }\n",
       "        );\n",
       "    </script>\n",
       "    <!-- ######################################################### -->\n",
       "    <!-- ######################################################### -->\n",
       "    \n",
       "    <!-- ******************************************************** -->\n",
       "    <!-- HTML için gerekli stilleri buradan ayarla                -->\n",
       "    <!-- Bu hücreyi nbextension'dan 'hide input' kullanarak sakla -->\n",
       "    <!-- ******************************************************** -->\n",
       "    \n",
       "    <style>\n",
       "    table.a, tr.a {text-align: left !important; \n",
       "             font-size: 20px;}\n",
       "    \n",
       "    table.b {text-align: left !important; \n",
       "             font-size: 16px;\n",
       "             margin: 0;}\n",
       "    \n",
       "    tr.b {text-align: left !important;}\n",
       "    \n",
       "    td.b {text-align: left !important;}\n",
       "    \n",
       "    li {text-align: left;}\n",
       "    </style>\n",
       "    <!-- ######################################################### -->\n",
       "    <!-- ######################################################### -->\n",
       "    \n",
       "    <!-- ********************************************************* -->\n",
       "    <!-- ****** Sayfa yönlendirme butonları                 ****** -->\n",
       "    <!-- ********************************************************* -->\n",
       "    &nbsp;&nbsp;&nbsp;&nbsp;\n",
       "    <tr align='left'>\n",
       "        <th>\n",
       "         <a href=\"./02b_titresim_ve_dalgalar.ipynb\" target=\"_blank\">\n",
       "           <button>\n",
       "           <i class=\"fa fa-arrow-circle-left fa-2x\" style=\"color: firebrick ; vertical-align: middle\"></i> Önceki Sayfa\n",
       "           </button> \n",
       "         </a>\n",
       "        </th>\n",
       "        \n",
       "        <th>&nbsp;&nbsp;&nbsp;&nbsp;&nbsp;&nbsp;&nbsp;&nbsp;&nbsp;&nbsp;</th>    \n",
       "        \n",
       "        <th>\n",
       "         <a href=\"./00_titresim_ve_dalgalar.ipynb\" target=\"_blank\">\n",
       "           <button>\n",
       "           <i class=\"fa fa-home fa-2x\" style=\"color: firebrick ; vertical-align: middle\"></i> Ana Sayfa\n",
       "           </button> \n",
       "         </a>\n",
       "        </th>\n",
       "        \n",
       "        <th>&nbsp;&nbsp;&nbsp;&nbsp;&nbsp;&nbsp;&nbsp;&nbsp;&nbsp;&nbsp;</th>\n",
       "        \n",
       "        <th>\n",
       "         <a href=\"./00_titresim_ve_dalgalar.ipynb\" target=\"_blank\">\n",
       "           <button>\n",
       "           Sonraki Sayfa <i class=\"fa fa-arrow-circle-right fa-2x\" style=\"color: firebrick ; vertical-align: middle\"></i>\n",
       "           </button>\n",
       "         </a>\n",
       "        </th>\n",
       "    </tr>\n",
       "    <!-- ######################################################### -->\n",
       "    <!-- ######################################################### -->\n",
       "    "
      ],
      "text/plain": [
       "<IPython.core.display.HTML object>"
      ]
     },
     "metadata": {},
     "output_type": "display_data"
    }
   ],
   "source": [
    "# ****************************************************\n",
    "# Bu Jupyter notebookta kullanılan ortak kütüphaneler.\n",
    "# ****************************************************\n",
    "%matplotlib inline\n",
    "from kutuphaneler import *\n",
    "\n",
    "course_title()\n",
    "\n",
    "ortak = \"_titresim_ve_dalgalar.ipynb\"\n",
    "prevp, homep, nextp = \"./02b\", \"./00\", \"./00\"\n",
    "course_links(prevp+ortak, homep+ortak, nextp+ortak)"
   ]
  },
  {
   "cell_type": "markdown",
   "metadata": {},
   "source": [
    "# Zoruna Salınımlar ve Rezonans"
   ]
  },
  {
   "cell_type": "markdown",
   "metadata": {},
   "source": [
    "## Giriş"
   ]
  },
  {
   "cell_type": "markdown",
   "metadata": {},
   "source": [
    "Yazılacak...."
   ]
  },
  {
   "cell_type": "markdown",
   "metadata": {},
   "source": [
    "##  Bir boyutlu sönümlü harmonik salınıcının zoruna salınımı"
   ]
  },
  {
   "cell_type": "markdown",
   "metadata": {},
   "source": [
    "Nokta gibi kabul edebileceğim $m$ kütleli bir nesnenin tek boyutta $x$ olarak adlandırılan eksen doğrultusunda salınımını inceleyelim. Eğer bu bir kütle-yay sistemiyse, $x(t)$ kadar denge konumundan uzaklaşan cisim üzerine ($x(t)$ kadar genleşen veya sıkışıan) yay tarafından $F_{yay}=-k x(t)$ gibi bir kuvvet uygulanır. Kuvveteki yay sabiit, $k = m \\omega_0^2$, olarak da tanımlanabilir. Burada $\\omega_0$ serbest salınan (dış kuvvet altında kalmadan) kütle yay sisteminin doğal açısal frekansıdır. Eğer bu sistemi daha gerçekçi hale getirmek istersek, $F_s = - m \\Gamma\\dot{x}(t)$ şeklinde kütleye etki eden bir sürtünme kuvveti de tanımlanabilir. Burada $\\Gamma$ birim kütle başına sürtünme veya sönüm sabitidir. Bu kuvvetlere ek olarak sistem dışarıdan $F(t)$ gibi bir dış kuvvetle de zorlanıyor (sürülüyor) olabilir. Bu durumda Newton'un ikinci yasası gereği böyle bir sistemdeki kütlenin hareket denklemi,\n",
    "<br>\n",
    "\\begin{align}\n",
    "\\label{eq:zoruna1}\n",
    "m\\ddot x(t) &= F_{yay} + F_s + F(t) \\\\\n",
    "m\\ddot x(t) &= -m\\omega_0^2 x(t) - m \\Gamma\\dot{x}(t)  + F(t) \n",
    "\\end{align}\n",
    "olur. Sürücü kuvvet olmadığı, $F(t) = 0$, durumda sistem sönümlü bir serbest salınım gerçekleştirir. \n",
    "\n",
    "### Serbest sönümlü salınım durumu $F(t) = 0$\n",
    "\n",
    "Bu durumda Denk. \\ref{eq:zoruna1},\n",
    "<br>\n",
    "\\begin{align}\n",
    "\\label{eq:zoruna2}\n",
    "\\ddot x(t) + \\Gamma\\dot{x}(t) + \\omega_0^2 x(t) = 0\n",
    "\\end{align}\n",
    "<br>\n",
    "halini alır. Ortya çıkan denklem ikinci dereceden çizgisel (lineer) homojen bir diferansiyel denklemdir. Bu denklemin çözümü,\n",
    "<br><br>\n",
    "\\begin{align}\n",
    "\\label{eq:zoruna3}\n",
    "\\large\n",
    "x_1(t) = C~\\text{e}^{\\large-({1 \\over 2}){\\LARGE t\\over \\LARGE \\tau}}\\cos(\\omega_1 t + \\theta)\n",
    "\\end{align}\n",
    "<br>\n",
    "olarak önerilebilir. Önerilen çözümün denklemi sağlayabilmesi için,\n",
    "<br><br>\n",
    "\\begin{align}\n",
    "\\label{eq:zoruna4}\n",
    "\\large\n",
    "\\tau={1\\over \\Gamma} ~~~\\text{ ve }~~~ \\omega_1^2=\\omega_0^2 - {1\\over 4}\\Gamma^2\n",
    "\\end{align}\n",
    "<br>\n",
    "olmalıdır. Trigonometrik fonksiyonlar arası dönüşüm bağıntıları hatırlanırsa,\n"
   ]
  },
  {
   "cell_type": "code",
   "execution_count": 2,
   "metadata": {
    "ExecuteTime": {
     "end_time": "2019-02-13T11:37:55.006404Z",
     "start_time": "2019-02-13T11:37:54.602018Z"
    },
    "hide_input": true
   },
   "outputs": [
    {
     "data": {
      "text/markdown": [
       "\\begin{align}\n",
       "         \\label{label0116345814742}\n",
       "         C \\cos{\\left (\\omega_{1} t + \\theta \\right )} = - C \\sin{\\left (\\theta \\right )} \\sin{\\left (\\omega_{1} t \\right )} + C \\cos{\\left (\\theta \\right )} \\cos{\\left (\\omega_{1} t \\right )} \\nonumber\n",
       "         \\end{align}\n",
       "    "
      ],
      "text/plain": [
       "<IPython.core.display.Markdown object>"
      ]
     },
     "metadata": {},
     "output_type": "display_data"
    },
    {
     "data": {
      "text/markdown": [
       "\\begin{align}\n",
       "         \\label{label0079361220625}\n",
       "         A_{1} = - C \\sin{\\left (\\theta \\right )} \\nonumber\n",
       "         \\end{align}\n",
       "    "
      ],
      "text/plain": [
       "<IPython.core.display.Markdown object>"
      ]
     },
     "metadata": {},
     "output_type": "display_data"
    },
    {
     "data": {
      "text/markdown": [
       "\\begin{align}\n",
       "         \\label{label0853907943809}\n",
       "         B_{1} = C \\cos{\\left (\\theta \\right )} \\nonumber\n",
       "         \\end{align}\n",
       "    "
      ],
      "text/plain": [
       "<IPython.core.display.Markdown object>"
      ]
     },
     "metadata": {},
     "output_type": "display_data"
    },
    {
     "data": {
      "text/markdown": [
       "\\begin{align}\n",
       "         \\label{label0149675279507}\n",
       "         C \\cos{\\left (\\omega_{1} t + \\theta \\right )} = A_{1} \\sin{\\left (\\omega_{1} t \\right )} + B_{1} \\cos{\\left (\\omega_{1} t \\right )} \\nonumber\n",
       "         \\end{align}\n",
       "    "
      ],
      "text/plain": [
       "<IPython.core.display.Markdown object>"
      ]
     },
     "metadata": {},
     "output_type": "display_data"
    }
   ],
   "source": [
    "omega_1, t, theta = sym.symbols('omega_1, t, theta')\n",
    "x_1 = sym.Function('x_1')(t)\n",
    "A_1, B_1 = sym.symbols('A_1, B_1')\n",
    "C, a, b = sym.symbols('C, a, b')\n",
    "\n",
    "\n",
    "a = omega_1 * t\n",
    "b = theta\n",
    "\n",
    "sol0 = C*sym.cos(a + b)\n",
    "sol1 = sym.expand(sym.expand_trig(sol0))\n",
    "\n",
    "\n",
    "printS([sol0, sol1])\n",
    "\n",
    "sTheta = sol1.args[1]/sym.sin(omega_1*t)\n",
    "cTheta = sol1.args[0]/sym.cos(omega_1*t)\n",
    "sol2 = sol1.subs({sTheta:A_1, cTheta:B_1})\n",
    "\n",
    "printS([A_1, sTheta])\n",
    "printS([B_1, cTheta])\n",
    "printS([sol0, sol2])"
   ]
  },
  {
   "cell_type": "markdown",
   "metadata": {},
   "source": [
    "ve bu dönüşümler önerilen çözümde kullanılırsa hareket denkleminin çözümü,\n",
    "<br><br>\n",
    "\\begin{align}\n",
    "\\label{eq:zoruna5}\n",
    "\\large\n",
    "x_1(t) = \\text{e}^{\\large-({1 \\over 2}){\\LARGE t\\over \\LARGE \\tau}} (A_1 \\sin(\\omega_1 t) + B_1 \\cos(\\omega_1 t))\n",
    "\\end{align}\n",
    "<br>\n",
    "halini alır. Bu yeni haline $x(0)$ ve $\\dot x(0)$ başlangıç şartları uygulanırsa,"
   ]
  },
  {
   "cell_type": "code",
   "execution_count": 3,
   "metadata": {
    "ExecuteTime": {
     "end_time": "2019-02-13T11:37:55.718185Z",
     "start_time": "2019-02-13T11:37:55.010241Z"
    },
    "hide_input": false
   },
   "outputs": [
    {
     "data": {
      "text/markdown": [
       "\\begin{align}\n",
       "         \\label{label070372477915}\n",
       "         \\operatorname{x_{1}}{\\left (0 \\right )} = B_{1} \\nonumber\n",
       "         \\end{align}\n",
       "    "
      ],
      "text/plain": [
       "<IPython.core.display.Markdown object>"
      ]
     },
     "metadata": {},
     "output_type": "display_data"
    },
    {
     "data": {
      "text/markdown": [
       "\\begin{align}\n",
       "         \\label{label0772703198977}\n",
       "         \\left. \\frac{d}{d t} \\operatorname{x_{1}}{\\left (t \\right )} \\right|_{\\substack{ t=0 }} = A_{1} \\omega_{1} - \\frac{B_{1} \\Gamma}{2} \\nonumber\n",
       "         \\end{align}\n",
       "    "
      ],
      "text/plain": [
       "<IPython.core.display.Markdown object>"
      ]
     },
     "metadata": {},
     "output_type": "display_data"
    }
   ],
   "source": [
    "Gamma = sym.symbols('Gamma')\n",
    "sol3 = sym.exp(-Gamma*t/2)*sol2\n",
    "sol4 = sym.diff(sol3, t)\n",
    "\n",
    "printS([x_1.subs({t:0}), sol3.subs({t:0})])\n",
    "printS([sym.diff(x_1,t).subs({t:0}), sol4.subs({t:0})])"
   ]
  },
  {
   "cell_type": "markdown",
   "metadata": {
    "hide_input": true
   },
   "source": [
    "eşitlikleri elde edilir. Buradan $A_1$ ve $B_1$ sabitleri,\n",
    "<br><br>\n",
    "\\begin{align}\n",
    "\\label{eq:zoruna6}\n",
    "B_1 &= x_1(0) \\nonumber \\\\\n",
    "\\omega_1 A_1 &= \\dot x_1(0) + {\\Gamma \\over 2} x_1(0) \\nonumber\\\\\n",
    "\\end{align}\n",
    "<br>\n",
    "olurlar. Böylece hareket denkleminin çözümü,\n",
    "<br><br>\n",
    "\\begin{align}\n",
    "\\label{eq:zoruna7}\n",
    "x_1(t) = \\text{e}^{\\large-{\\Gamma t \\over 2}} \\bigg(x_1(0) \\cos(\\omega_1 t) + {1\\over \\omega_1}\\bigg[\\dot x_1(0)+{\\Gamma\\over 2} x_1(0)\\bigg] \\sin(\\omega_1 t)\\bigg)\n",
    "\\end{align}\n",
    "<br>\n",
    "halini alır. $\\omega_1^2=\\omega_0^2 - ({\\Gamma \\over 2})^2$ olduğu hatırlanırsa bu sistemin salınımları\n",
    "\n",
    "- $ {\\Gamma \\over 2} < \\omega_0$ ise zayıf sönümlü,\n",
    "- $ {\\Gamma \\over 2} \\eqsim \\omega_0$ ise kritik sönümlü,\n",
    "- $ {\\Gamma \\over 2} > \\omega_0$ ise aşırı sönümlü\n",
    "\n",
    "gibi sınıflandırılır. Üç durum için $x_1(t)$'nin zamana göre değişimi aşağıdaki şekilde gösterilmiştir.\n",
    "\n",
    "<img src='./sekiller/damped_oscillations.svg'/>"
   ]
  },
  {
   "cell_type": "markdown",
   "metadata": {},
   "source": [
    "Kritik sönüm durumunda $ {\\Gamma \\over 2} \\eqsim \\omega_0$ olduğundan $\\omega_1\\eqsim0$ olur. Böylece sistemin hareket çözümün denklemi,\n",
    "<br>\n",
    "\\begin{align}\n",
    " \\label{eq:zoruna075}\n",
    "x_1(t) \\eqsim x_1(0)~\\text{e}^{\\large-{\\Gamma t \\over 2}} \n",
    "\\end{align}\n",
    "<br><br>\n",
    "ifadesine indirgenir. Bu durumda sistemin davranışı yukarıdaki şekilde gösterilmiştir. Aşırı sönüm durumunda ise $\\omega_1^2$ eksi değerler alır. Bu durumda $\\omega_1$ bir karmaşık (kompleks) sayıya dönüşür ve\n",
    "<br>\n",
    "\\begin{align}\n",
    " \\label{eq:zoruna8}\n",
    "\\omega_1 &= \\pm i~\\big|\\omega_1\\big| \\\\\n",
    "\\big|\\omega_1\\big| & = \\sqrt{\\big({\\Gamma \\over 2}\\big)^2 - \\omega_0^2}\n",
    "\\end{align}\n",
    "olarak yazılabilir. Burada $i$ bir sanal sayıdır ve $i^2 = -1$'dir. Aşırı sönümlü durum için hareket denkleminin çözümü,\n",
    "<br><br>\n",
    "\\begin{align}\n",
    "\\label{eq:zoruna9}\n",
    "x_1(t) = \\text{e}^{\\large-{\\Gamma t \\over 2}} \\bigg(x_1(0) \\cosh(\\big|\\omega_1\\big| t) + {1\\over \\omega_1}\\bigg[\\dot x_1(0)+{\\Gamma\\over 2} x_1(0)\\bigg] \\sinh(\\big|\\omega_1\\big| t)\\bigg)\n",
    "\\end{align}\n",
    "<br>\n",
    "haline gelir."
   ]
  },
  {
   "cell_type": "markdown",
   "metadata": {},
   "source": [
    "Böyle bir sistemin herhangi bir andaki toplam enerjisinin (kinetik + potansiyel) zamana göre değişimi,\n",
    "<br><br>\n",
    "\\begin{align}\n",
    "\\label{eq:zoruna10}\n",
    "E(t) = {1\\over 2} m \\dot x_1^2(t) + {1\\over 2} m \\omega_0^2 x_1^2(t)\n",
    "\\end{align}\n",
    "<br>\n",
    "şeklinde yazılabilir. Toplam enerji için yazılan bu ifadeyi çok zayıf sönüm (${\\Gamma\\over 2}<<\\omega_0$) durumu için inceleyelim. Bu durumda $x_1$'in $\\text{e}^{\\large-{\\Gamma t \\over 2}}$ kısmı bir periyot üzerinden çok fazla değişmeyecektir ve bu kısım zamanla değişimiyormuş gibi kabul edilebilir. Böylece sadece kosinüs ve sinüslü kısmın bir periyot üzerinden ortalaması alınırsa,\n",
    "<br><br>\n",
    "\\begin{align}\n",
    "\\label{eq:zoruna11}\n",
    "E_0 = {1\\over 2} m \\bigg(\\omega_1^2 + \\omega_0^2\\bigg) \\bigg({1\\over 2}A_1^2 + {1\\over 2}B_1^2\\bigg)\n",
    "\\end{align}\n",
    "<br>\n",
    "ortalama $E_0$ yukarıdaki gibi olur. Böylece çok zayıf sönümlü bir sistem için enerjinin, $E(t)$, zamanla değişimi,\n",
    "<br><br>\n",
    "\\begin{align}\n",
    "\\label{eq:zoruna12}\n",
    "E(t) = E_0\\text{e}^{-\\Gamma t} = E_0\\text{e}^{- {t\\over \\tau}}\n",
    "\\end{align}\n",
    "<br>\n",
    "olur."
   ]
  },
  {
   "cell_type": "markdown",
   "metadata": {},
   "source": [
    "### Harmonik sürücü kuvvet etkisinde kararlı durum salınımı"
   ]
  },
  {
   "cell_type": "markdown",
   "metadata": {},
   "source": [
    "Bir sistemi süren $F(t)$ gibi bir kuvvet çok çeşitli şekilde olabilir. $F(t)$ kuvveti zamanın bir fonksiyonu olarak bilinse bile hareket denkleminin çözümünü zorlaştıracak bir yapıya sahip olabilir. Titreşim hareketleri doğası gereği bir birini tekrarlama eğiliminde olduğuna göre $F(t)$ kuvveti de böyle bir doğaya sahip olabilir. Bu durumda $F(t)$ kuvvetinin de bir tekrarlam frekansı  olacaktır. Dolayısıyla böyle bir kuvveti temsil eden $F(t)$ fonskiyonu çeşitli $\\omega$ frekansları üzerinden aşağıdaki gibi bir Fourier serisine açılabilir.\n",
    "<br><br>\n",
    "\\begin{align}\n",
    "\\label{eq:zorHH1}\n",
    "F(t) = \\sum f(\\omega) \\cos (\\omega t + \\phi(\\omega))\n",
    "\\end{align}\n",
    "İncelediğimiz bir serbestlik dereceli sistem için daha önce yazdığımı hareket denklemi yeniden düzenlenirse,\n",
    "<br><br>\n",
    "\\begin{align}\n",
    "\\label{eq:zorHH2}\n",
    "m\\ddot x(t) + m\\omega_0^2 x(t) + m \\Gamma\\dot{x}(t)  = F(t) \n",
    "\\end{align}\n",
    "<br>\n",
    "halini alır. Burada $F(t)$ yerine Fourier serisi açılını koyabiliriz. Böylece, \n",
    "<br><br>\n",
    "\\begin{align}\n",
    "\\label{eq:zorHH3}\n",
    "m\\ddot x(t) + m\\omega_0^2 x(t) + m \\Gamma\\dot{x}(t)  =  \\sum f(\\omega) \\cos (\\omega t + \\phi(\\omega))\n",
    "\\end{align}\n",
    "<br>\n",
    "denklemine ulaşılır. Böyle bir denklemi çözmektense, \n",
    "<br><br>\n",
    "\\begin{align}\n",
    "\\label{eq:zorHH4}\n",
    "m\\ddot x(t) + m\\omega_0^2 x(t) + m \\Gamma\\dot{x}(t)  =  F_0 \\cos(\\omega t)\n",
    "\\end{align}\n",
    "<br>\n",
    "şeklinde bir denklemi çözmek daha kolaydır. Burada $F_0 \\cos(\\omega t)$ yukarıdaki Fourier serisinin elemanlarından birisidir. $\\phi(\\omega)$ faz farkı başlangıç durumu için sıfır kabul edilmiştir. Bu yeni denklemi çözerek aslında serinin her bir elemanı için çözümü elde etmiş oluyoruz. Daha sonra, çizgisel diferansiyel denklemlerin bir özelliği olan, üst üste gelme ilkesi gereğince bu çözümlerin üst üste gelmesiyel $F(t)$ için çözüm bulunmuş olur.\n",
    "\n",
    "Ortaya çıkan denklemin zayıf sönümlü durumdaki kararlı hal çözümlerini arıyoruz. Kararlı hal sürücü kuvvetin uygulanma süresinin sistemin sönüm süresinden uzun olduğu durumda ortaya çıkar. Böyle bir durumda sistem artık sürücü kuvvetin frekansıyla salınmaya başlar."
   ]
  },
  {
   "cell_type": "markdown",
   "metadata": {},
   "source": [
    "### Soğrucu ve esnek genlik"
   ]
  },
  {
   "cell_type": "markdown",
   "metadata": {
    "hide_input": true
   },
   "source": [
    "Hareket denkleminin Kararlı hali için,\n",
    "<br><br>\n",
    "\\begin{equation}\n",
    "\\label{eq:kararli1}\n",
    "x_k(t) = A\\sin{\\omega t} + B\\cos{\\omega t}\n",
    "\\end{equation}\n",
    "<br>\n",
    "gibi bir çözüm önerilebilir veya Python diline ait SymPy kütüphanesi kullanılarak en  genel çözüm aşağıdaki gibi bulunabilir. "
   ]
  },
  {
   "cell_type": "code",
   "execution_count": 4,
   "metadata": {
    "ExecuteTime": {
     "end_time": "2019-02-13T11:37:57.359028Z",
     "start_time": "2019-02-13T11:37:55.721995Z"
    },
    "hide_input": true
   },
   "outputs": [
    {
     "data": {
      "text/markdown": [
       "\\begin{align}\n",
       "         \\label{label0776858072891}\n",
       "         x{\\left (t \\right )} = C_{1} e^{\\frac{t \\left(- \\Gamma - \\sqrt{\\Gamma^{2} - 4 \\omega_{0}^{2}}\\right)}{2}} + C_{2} e^{\\frac{t \\left(- \\Gamma + \\sqrt{\\Gamma^{2} - 4 \\omega_{0}^{2}}\\right)}{2}} + \\frac{F_{0} \\Gamma \\omega \\sin{\\left (\\omega t \\right )}}{m \\left(\\Gamma^{2} \\omega^{2} + \\left(\\omega^{2} - \\omega_{0}^{2}\\right)^{2}\\right)} - \\frac{F_{0} \\omega^{2} \\cos{\\left (\\omega t \\right )}}{m \\left(\\Gamma^{2} \\omega^{2} + \\left(\\omega^{2} - \\omega_{0}^{2}\\right)^{2}\\right)} + \\frac{F_{0} \\omega_{0}^{2} \\cos{\\left (\\omega t \\right )}}{m \\left(\\Gamma^{2} \\omega^{2} + \\left(\\omega^{2} - \\omega_{0}^{2}\\right)^{2}\\right)} \\nonumber\n",
       "         \\end{align}\n",
       "    "
      ],
      "text/plain": [
       "<IPython.core.display.Markdown object>"
      ]
     },
     "metadata": {},
     "output_type": "display_data"
    }
   ],
   "source": [
    "t, m, Gamma, omega_0 = sym.symbols('t, m, Gamma, omega_0')\n",
    "F_0, omega = sym.symbols('F_0, omega')\n",
    "C1, C2 = sym.symbols('C1, C2')\n",
    "x = sym.Function('x')(t)\n",
    "x_k = sym.Function('x_k')(t)\n",
    "\n",
    "eq = m*sym.diff(x, t,t) + m*Gamma*sym.diff(x, t) + m*omega_0**2*x - F_0*sym.cos(omega*t)\n",
    "sol = sym.dsolve(eq, x)\n",
    "xks = sym.collect((sol.subs({C1:0, C2:0})).args[1], sym.cos(omega*t))\n",
    "\n",
    "#printS([eq])\n",
    "printS(list(sol.args))"
   ]
  },
  {
   "cell_type": "markdown",
   "metadata": {},
   "source": [
    "Genel çözümdeki $C_1$ ve $C_2$ kat sayılı sönümden sorumlu kısımlar kararlı duruma geçmek için gerekli süre beklendiği takdirde sıfıra yaklaşacaktır. Bu durumda kararlı durum çözümü aşağıdaki gibi olacaktır."
   ]
  },
  {
   "cell_type": "code",
   "execution_count": 5,
   "metadata": {
    "ExecuteTime": {
     "end_time": "2019-02-13T11:37:57.383768Z",
     "start_time": "2019-02-13T11:37:57.363033Z"
    },
    "hide_input": false
   },
   "outputs": [
    {
     "data": {
      "text/markdown": [
       "\\begin{align}\n",
       "         \\label{label0126908234613}\n",
       "         \\operatorname{x_{k}}{\\left (t \\right )} = \\frac{F_{0} \\Gamma \\omega \\sin{\\left (\\omega t \\right )}}{m \\left(\\Gamma^{2} \\omega^{2} + \\left(\\omega^{2} - \\omega_{0}^{2}\\right)^{2}\\right)} + \\left(- \\frac{F_{0} \\omega^{2}}{m \\left(\\Gamma^{2} \\omega^{2} + \\left(\\omega^{2} - \\omega_{0}^{2}\\right)^{2}\\right)} + \\frac{F_{0} \\omega_{0}^{2}}{m \\left(\\Gamma^{2} \\omega^{2} + \\left(\\omega^{2} - \\omega_{0}^{2}\\right)^{2}\\right)}\\right) \\cos{\\left (\\omega t \\right )} \\nonumber\n",
       "         \\end{align}\n",
       "    "
      ],
      "text/plain": [
       "<IPython.core.display.Markdown object>"
      ]
     },
     "metadata": {},
     "output_type": "display_data"
    }
   ],
   "source": [
    "printS([x_k, xks])"
   ]
  },
  {
   "cell_type": "markdown",
   "metadata": {},
   "source": [
    "Hareket denkleminin çözümü için önerilen ilk ifade ve SymPy yardımıyla elde edilen ifade karşılaştırıldığında  $A$ ve $B$ katsayılarının,\n",
    "<br><br>\n",
    "\\begin{align}\n",
    "\\label{eq:kararli2}\n",
    "A &= {F_{0}\\over m} \\frac{ \\Gamma \\omega}{\\left(\\Gamma^{2} \\omega^{2} + \\left(\\omega_0^{2} - \\omega^{2}\\right)^{2}\\right)} \\equiv A_{soğ}\\\\\n",
    "B &= {F_{0}\\over m} \\frac{(\\omega_0^2 - \\omega^2)}{\\left(\\Gamma^{2} \\omega^{2} + \\left(\\omega_0^{2} - \\omega^{2}\\right)^{2}\\right)} \\equiv A_{es}\\\\\n",
    "\\end{align}\n",
    "<br>\n",
    "olacağı görülebilir. Burada tanımlanan yeni katsayılara, $A_{soğ}$ ve $A_{es}$, sırasıyla soğurucu ve esnek genlik adları verilir. $A$ ve $B$ katsayılarına verilen yeni isimler,\n",
    "\"Giriş Gücü\" tanımlanınca anlam kazanır. Giriş gücü sistemi süren kuvvetin sisteme aktardığı güç olarak düşünülebilir. Anlık giriş gücü,\n",
    "<br><br>\n",
    "\\begin{align}\n",
    "\\label{eq:kararli3}\n",
    "P(t) = F(t) v(t)\n",
    "\\end{align}\n",
    "<br>\n",
    "şeklinde tanımlanır. Çalıştığımız bir boyutlu sistemin için,\n",
    "<br><br>\n",
    "\\begin{align}\n",
    "\\label{eq:kararli4}\n",
    "P(t) = F(t)~\\dot x_k(t) = F_0 \\cos(\\omega t) \\big(\\omega A\\cos(\\omega t) - \\omega B\\sin(\\omega t)\\big)\n",
    "\\end{align}\n",
    "<br>\n",
    "olur. Sistemin giriş gücünün bir periyot üzerinden ortalaması,\n",
    "<br><br>\n",
    "\\begin{align}\n",
    "\\label{eq:kararli5}\n",
    "\\overline P~&=~<P(t)>~=~{1\\over T}\\int\\limits_{t_0}^{t_0+T} P(t) dt \\\\\n",
    "\\overline P~&=~F_0 \\omega A \\int\\limits_{t_0}^{t_0+T} \\cos^2(\\omega t) dt - F_0\\omega B \\int\\limits_{t_0}^{t_0+T} \\cos(\\omega t) \\sin(\\omega t) dt \\\\\n",
    "\\overline P~&=~{1\\over 2}F_0 \\omega A\n",
    "\\end{align}\n",
    "<br>\n",
    "olur. Elde edilen bu ortalama güç ifadesi bir periyot boyunca sistem tarafından soğurulan giriş gücü olarak adlandırılır. Bu nedenle $A \\equiv A_{soğ}$ tanımı yapılır ve $\\overline P$,\n",
    "<br><br>\n",
    "\\begin{align}\n",
    "\\label{eq:kararli6}\n",
    "\\overline P~&=~{1\\over 2}F_0 \\omega A_{soğ}\n",
    "\\end{align}\n",
    "<br>\n",
    "şeklinde yeniden yazılır. P(t) anlık güçteki $B$ katsayılı kısım anlık güce katkıda bulunurken bir periyot üzerinden ortalaması ise sıfırdır. Yine de bu kısım önemsizdir denemez.\n",
    "Çünkü $\\omega$ sürücü frekansı $\\omega_0$ frekansından uzaklaştığında sistemin salınımında etkin olan kısım $B$ katsayılı kısımdır. Bu nedenle $B\\equiv A_{es}$ tanımı yapılır."
   ]
  },
  {
   "cell_type": "markdown",
   "metadata": {},
   "source": [
    "Aynı sistemde anlık olarak sürtünme ile yitirilen güç,\n",
    "<br><br>\n",
    "\\begin{align}\n",
    "\\label{eq:kararli7}\n",
    "P_{sür}(t)~&=~F_s v(t)~=~m\\Gamma \\big[\\dot x_k(t)\\big]^2\n",
    "\\end{align}\n",
    "<br>\n",
    "şeklindedir. Bunun bir periyot üzerinden ortalaması ise,\n",
    "<br><br>\n",
    "\\begin{align}\n",
    "\\label{eq:kararli8}\n",
    "\\overline P_{sür}(t)~&=~{1\\over 2}m\\Gamma\\omega^2\\bigg[A^2_{soğ} + A^2_{es}\\bigg]\n",
    "\\end{align}\n",
    "<br>\n",
    "olur. Gerekli aritmetik işlemler yapılırsa giriş gücünün ve sürtünmede kaybedilen gücün bir periyot ortalamalarının bir birlerine eşit oldukları gösterilebilir.\n",
    "\n",
    "Kararlı durumda çalıştığımız bir serbestlik dereceli salınıcı da biriken toplam (kinetik + potansiyel) enerji sabit değildir. Bunun nedeni anlık giriş gücünün \n",
    "ve sürtünmeyle yitirilen anlık gücün her an birbirlerine eşit olmamalarıdır. Anlık biriken enerji,\n",
    "<br><br>\n",
    "\\begin{align}\n",
    "\\label{eq:kararli9}\n",
    "E(t) &= K(t) + U(t) \\\\\n",
    "     &= {1\\over 2}m (\\dot x_k)^2 + {1\\over 2}m \\omega_0^2 (x_k)^2\n",
    "\\end{align}\n",
    "<br>\n",
    "ile verilir. Anlık biriken enerjinin bir periyot üzerinden ortalaması ise,\n",
    "\\begin{align}\n",
    "\\label{eq:kararli10}\n",
    "\\overline E & = {1\\over 4}m \\omega^2 (A_{soğ}^2 + A_{es}^2) + {1\\over 4}m \\omega_0^2(A_{soğ}^2 + A_{es}^2) \\\\\n",
    "     &= {1\\over 2}m \\bigg(\\omega^2 + \\omega_0^2\\bigg) \\bigg({1\\over 2}A_{soğ}^2 + {1\\over 2}A_{es}^2\\bigg)\n",
    "\\end{align}\n",
    "<br>\n",
    "olur.Burada $\\omega^2$'li terim kinetik enerjinin ortalaması, $\\omega_0$ ise potansiyel enerjinin ortalamasıdır. Denklemden görüldüğü üzere iki ortalama birbirine eşit değildir. Ancak $\\omega = \\omega_0$ olursa eşit olurlar. Bu durumda ki ortalama enerji denklemi ile <b>zayıf sönüm</b> durumunda elde edilen ortalama enerji denklemi aynıdır. Yine bu durumda elde edilen ortalama enerji terimi sürtünme kuvvetinden dolayı kaybedilen güçle,\n",
    "<br><br>\n",
    "\\begin{align}\n",
    "\\label{eq:kararli11}\n",
    "\\overline E = \\tau \\overline P_{sür}\n",
    "\\end{align}\n",
    "<br>\n",
    "şeklinde ilişkilidir. Bu denklem iki şekilde yorumlanabilir. Birincisi eğer sürücü kuvvet kesilirse, sistem $\\tau$ sönüm süresi sabitine bağlı olarak enerjisini kaybedecektir. İkinci durumda ise, zayıf sönümlü halde $\\omega_0$'a yakın bir sürücü frekansla sistem sürülürse, sistemde sürtünmeden dolayı kaybedilen enerji $\\tau$ süresinde sürücü kuvvet tarafından sisteme tekrar kazandırılır. $\\omega \\neq \\omega_0$ durumuna ait bağıntıyı elde etmek daha zordur, şimdilik bu durumu incelemeyeceğiz."
   ]
  },
  {
   "cell_type": "markdown",
   "metadata": {},
   "source": [
    "### Rezonans"
   ]
  },
  {
   "cell_type": "markdown",
   "metadata": {},
   "source": [
    "Bir salınıcı sistemin doğal frekanslarında sürücü bir dış kuvvet tarafından daha büyük genlikle salınmasının sağlanması olayına <b>rezonans</b> denir. Ortaya çıkan büyük genliğin (göreceli olarak en büyük genliğin) gerçekleştiği bu frekanslar, rezonans frekansları olarak da adlandırılırlar. Rezonans frekansında sürülen bir sistem, titreşen sistem enerjiyi biriktirebildiği için, çok küçük periyodik kuvvetlerle çok büyük genliklere ulaşabilir.\n",
    "\n",
    "İncelediğimiz bir serbestlik dereceli sistem $\\tau$ sönüm süresinin en az bir kaç katı sürede dış sürücü kuvvetle $\\omega \\eqsim \\omega_0$ olacak şekilde sürüldüğünde rezonansa gelebilir. Giriş gücünün ortalaması daha önceki bilgilerimizden yararlanılarak,\n",
    "<br><br>\n",
    "\\begin{align}\n",
    "\\label{eq:rezonans1}\n",
    "P = P_0{\\Gamma^2 \\omega^2 \\over \\bigg(\\omega_0^2-\\omega^2\\bigg)^2 + \\Gamma^2 \\omega^2 }\n",
    "\\end{align}\n",
    "<br>\n",
    "olarak yazılabilir. Burada $P_0$ rezonans durumundaki en büyük (maksimum) güçtür. Gücün yarıya indiği \"yarı güç noktları\" $P(\\omega) = P_0/2$ eşitliğinden,\n",
    "<br><br>\n",
    "\\begin{align}\n",
    "\\label{eq:rezonans2}\n",
    "\\omega^2 = \\omega_0^2 \\pm \\Gamma \\omega\n",
    "\\end{align}\n",
    "<br>\n",
    "olarak bulunur. Bu ifadenin dört farklı çözümü vardır. Bu dört farklı çözümden fiziksel durumu temsil eden aşağıdaki ikisidir.\n",
    "<br><br>\n",
    "\\begin{align}\n",
    "\\label{eq:rezonans3}\n",
    "\\omega = \\sqrt{\\omega_0^2 + {1\\over 4}\\Gamma^2 } \\pm {1\\over 2}\\Gamma\n",
    "\\end{align}\n",
    "<br>\n",
    "Bu iki çözümün farkı,\n",
    "<br><br>\n",
    "\\begin{align}\n",
    "\\label{eq:rezonans4}\n",
    "\\Delta\\omega = \\Gamma \\equiv \\Delta \\omega_{rg}\n",
    "\\end{align}\n",
    "<br>\n",
    "olur ve bu fark <b>rezonans genişliği</b> veya yarı en büyük güçteki tam frekans genişliği \n",
    "(full-frequency width at half-maximum power: <b>fwhm</b>) olarak adlandırılır. \n",
    "Serbest salınımların $\\tau$ sönüm katsayısının $1\\over\\Gamma$ olduğu hatırlanırsa,\n",
    "<br><br>\n",
    "\\begin{align}\n",
    "\\label{eq:rezonans5}\n",
    "\\Delta \\omega_{rg} \\tau = 1\n",
    "\\end{align}\n",
    "<br>\n",
    "eşitliği elde edilir. Bu ifade ile sürülen salınımların rezonans genişlğiyle serbest salınımların \n",
    "sönüm süresi arasında ters orantı olduğu anlaşılmaktadır. Bu eşitlik birden çok serbestlik derecesi\n",
    "olan sistemler için de geçerlidir. Rezonansın sönümün olmadığı durumda $\\omega_0$ açısal frekansında\n",
    "gerçekleştiğine dikkat edilmelidir. Sönümlü durumda ise yeterince beklendiğinde kararlı duruma geçilir, \n",
    "bu durumda sistemin doğal frekansı, $\\Gamma$ sönüm sabitinin de etkisiyle, $\\omega_1$ olur. \n",
    "Böylece sürücü frekansı $\\omega$ yeni doğal frekans $\\omega_1$'e yaklaştığında rezonansa yaklaşılır.\n",
    "\n",
    "Rezonans genişliği ve sönüm sabitinin oluşturduğu denklem çok serbestlik dereceli bir sistemdeki hemen her doğal\n",
    "frekans için geçerlidir, yeter ki doğal frekanslar birbirlerine çok yakın olmasınlar. Bu eşitliğin sağladığı bir\n",
    "fayda ise bir sistemin rezonans genişliği ölçülerek, sönüm süresinin bulunabilecek olmasıdır.\n"
   ]
  },
  {
   "cell_type": "markdown",
   "metadata": {},
   "source": [
    "### Esnek genliğin frekansla değişimi"
   ]
  },
  {
   "cell_type": "markdown",
   "metadata": {},
   "source": [
    "Kararlı durumdaki $A_{es}\\cos(\\omega t)$ teriminin ortalama giriş gücü $\\overline P$'ye katkısı olmadığını biliyoruz. Rezonans durumundaysa bu terimin $A_{es}$ katsayısı sıfır olur. Yine de bu terim önemsizdir denemez. $\\omega$ sürücü frekansı $\\omega_0$ doğal frekansından uzaklaştıkça, yani rezonanstan uzaklaştıkça, bu terim baskın hale gelir. $A_{soğ}$ ve $A_{es}$ katsayıları birbirlerine oranlanırsa,\n",
    "<br><br>\n",
    "\\begin{align}\n",
    "\\label{eq:esnek1}\n",
    "{A_{es}\\over A_{soğ}} = {\\omega_0^2 - \\omega^2 \\over \\Gamma \\omega}\n",
    "\\end{align}\n",
    "<br>\n",
    "olacağını göstermek kolaydır. Bu oranla rezonanstan uzaklaştıkça $x_k$ çözümünün hangi teriminin baskın hale geleceği rahatça görülebilir. Öncelikle $\\omega_0>\\Gamma$'dır, çünkü zayıf sönümlü durumda rezonanstan bahsedilebilir. $\\omega$ küçüldükçe $\\omega_0^2>\\Gamma \\omega$ olur. $\\omega$ büyüdüğündeyse $\\omega^2>\\Gamma\\omega$ olur. Böylece $\\omega$'nın $\\omega_0$'dan uzaklaşmasıyla $|\\omega_0^2-\\omega^2|>\\Gamma\\omega$ olacağı açıktır. $\\omega$ büyüdükçe $A_{es}$ katsayılı terim $A_{soğ}$ katsayılı terimden daha baskın hale gelir ve soğurma katsayılı terim ihmal edilebilir. Böylece kararlı çözüm,\n",
    "<br><br>\n",
    "\\begin{align}\n",
    "\\label{eq:esnek2}\n",
    "x_k(t) \\eqsim A_{es}\\cos \\omega t \\eqsim {F_0 \\over m (\\omega_0^2 - \\omega^2)}\\cos \\omega t \n",
    "\\end{align}\n",
    "<br>\n",
    "olur. Esnek kısım baskınken $\\Gamma$ sönüm sabitinin çözümde artık etkisinin olmadığı görülebilir. Soğurucu ve esnek genliklerin rezonans frekansı civarındaki ve rezonanstan uzaktaki davranışları aşağıdaki şekilde gösterilmiştir."
   ]
  },
  {
   "cell_type": "code",
   "execution_count": 6,
   "metadata": {
    "ExecuteTime": {
     "end_time": "2019-02-13T11:37:58.163827Z",
     "start_time": "2019-02-13T11:37:57.387710Z"
    },
    "hide_input": false
   },
   "outputs": [
    {
     "data": {
      "image/png": "[encoded data removed]",
      "text/plain": [
       "<Figure size 864x504 with 1 Axes>"
      ]
     },
     "metadata": {
      "needs_background": "light"
     },
     "output_type": "display_data"
    }
   ],
   "source": [
    "D = lambda w: (gamma*w)**2 + (w0**2 - w**2)**2\n",
    "\n",
    "Asog = lambda w: gamma*w / D(w)\n",
    "Aes = lambda w: (w0**2 - w**2) / D(w)\n",
    "\n",
    "gamma = 0.5 # s^-1 sönüm katsayısı\n",
    "w0 = 2. # rad/s doğal frekans\n",
    "xg0 = w0 - gamma/2.\n",
    "xg1 = w0 + gamma/2.\n",
    "\n",
    "w = np.linspace(0, 4, 250) # rad/s sürücü frekans\n",
    "\n",
    "plt.figure(figsize=(12,7))\n",
    "plt.plot(w, gamma*w0 * Asog(w), label=u'$A_{soğ}$', lw=3)\n",
    "plt.plot(w, gamma*w0 * Aes(w), label=u'$A_{es}$', lw=3, color='red', linestyle='--', dashes=(25, 5))\n",
    "plt.axvline(x=xg0, color='gray') # fwhm\n",
    "plt.axvline(x=xg1, color='gray') # fwhm\n",
    "\n",
    "plt.text(xg0 - .5, Asog(xg0), r'$\\omega_0 - \\frac{\\Gamma}{2}$', fontsize=28)\n",
    "plt.text(xg1 + .05, Asog(xg1), r'$\\omega_0 + \\frac{\\Gamma}{2}$', fontsize=28)\n",
    "plt.text(w0, 0.05, r'$\\omega_0$', fontsize=28)\n",
    "plt.text(w0, gamma*w0, r'$A_{enb} = \\frac{F_0\\tau}{m \\omega_0}$', fontsize=28)\n",
    "\n",
    "plt.axhline(color='black', zorder=-999)\n",
    "plt.grid()\n",
    "plt.xlabel('$\\omega$', fontsize=28)\n",
    "plt.ylabel('Genlik', fontsize=22)\n",
    "plt.legend(loc='best', fontsize=24)\n",
    "plt.show()"
   ]
  },
  {
   "cell_type": "markdown",
   "metadata": {},
   "source": [
    "### Rezonans eğrileri"
   ]
  },
  {
   "cell_type": "markdown",
   "metadata": {},
   "source": [
    "Dış sürücü bir kuvvetle sürülen sönümlü harmonik osilatörün davranışını anlayabilmek için bazı fiziksel nicelikleri tanımladık. \n",
    "Örneğin; $A_{soğ}$, $\\big|A\\big|^2 \\equiv A_{es}^2 + A_{soğ}^2$, giriş gücü (P) ve biriken enerji (E) vb. gibi. Bu nicelikleri\n",
    "tanımlayan formüller incelendiğinde benzer yapıya sahip odukları, hatta paydalarının birebir aynı olduğu görülebilir. Belirli şartlar altında\n",
    "benzer <b>rezonans eğrileri</b> üreteceklerini gösterebiliriz. Bu fiziksel ifadelerin formülleri,\n",
    "<br><br>\n",
    "\\begin{align}\n",
    "\\label{eq:egri1}\n",
    "A_{soğ}(\\omega) &= A_{soğ}(\\omega_0){\\Gamma^2 \\omega_0 \\omega \\over (\\omega_0^2-\\omega^2)^2 + \\Gamma^2 \\omega^2}  \\\\\n",
    "\\big|A(\\omega)\\big|^2 &= \\big|A(\\omega_0)\\big|^2{\\Gamma^2 \\omega_0^2 \\over (\\omega_0^2-\\omega^2)^2 + \\Gamma^2 \\omega^2}  \\\\\n",
    "P(\\omega) &= P(\\omega_0){\\Gamma^2 \\omega^2 \\over (\\omega_0^2-\\omega^2)^2 + \\Gamma^2 \\omega^2}  \\\\\n",
    "E(\\omega) &= E(\\omega_0){\\Gamma^2 (\\omega^2 + \\omega_0^2)/2 \\over (\\omega_0^2-\\omega^2)^2 + \\Gamma^2 \\omega^2}  \\\\\n",
    "\\end{align}\n",
    "<br>\n",
    "olarak verilirler. Bu eşitlikler incelendiğinde dördününde paydalarının eşit olduğu görülmektedir. Paydayı, $D(\\omega)$\n",
    "olarak isimlendirip,\n",
    "<br><br>\n",
    "\\begin{align}\n",
    "\\label{eq:egri2}\n",
    "D(\\omega)  \\equiv (\\omega_0-\\omega)^2(\\omega_0+\\omega)^2 + \\Gamma^2 \\omega^2\n",
    "\\end{align}\n",
    "<br>\n",
    "şeklinde yeniden yazmak mümkündür. $D(\\omega)$ ifadesinde $(\\omega_0 - \\omega)$'lı rezonans eğrisinin kısım rezonans civarındaki hızlı değişiminde daha etkindir. $D(\\omega)$, $\\omega-\\omega_0)$ terimi hariç, zayıf sönüm ve rezonans durumunda $\\omega=\\omega_0$ alınarak,\n",
    "<br><br>\n",
    "\\begin{align}\n",
    "\\label{eq:egri3}\n",
    "D(\\omega)  \\eqsim 4\\omega_0^2\\big[(\\omega_0-\\omega)^2 + (\\Gamma/2)^2\\big]\n",
    "\\end{align}\n",
    "<br>\n",
    "şeklinde yeniden yazılabilir. Rezonans ifadelerinin pay kısımları için de yanı işlem uygulanırsa dört ifadenin frekansa bağlı kısımları,\n",
    "<br><br>\n",
    "\\begin{align}\n",
    "\\label{eq:egri4}\n",
    "R(\\omega)  \\equiv {(\\Gamma/2)^2 \\over (\\omega_0 - \\omega)^2 + (\\Gamma/2)^2}\n",
    "\\end{align}\n",
    "<br>\n",
    "şeklinde yazılabilir. Böylece $R(\\omega)$ ile gösterilen rezonan davranışının genel eğrisi elde edilmiş olur. Bu eğri hakkında bazı bilgiler:\n",
    "\n",
    "- $R(\\omega_0) = 1$\n",
    "- $R(\\omega)$'nın rezonans genişliği $\\Delta \\omega_{rg} = \\Gamma$'dır.\n",
    "- $R(\\omega)$ bir çift fonksiyondur, bunun anlamı rezonans frekansı civarında simetriktir.\n",
    "- Optik fiziğinde \"Lorentz şekli\" olarak adlandırılır.\n",
    "- Çekirdek fiziğinde \"Breit-Wigner\" rezonans eğrisi denir.\n"
   ]
  },
  {
   "cell_type": "markdown",
   "metadata": {},
   "source": [
    "### Geçici durumda zoruna salınım"
   ]
  },
  {
   "cell_type": "markdown",
   "metadata": {
    "run_control": {
     "marked": true
    }
   },
   "source": [
    "İncelediğimiz sistemin hareket denklemi lineerdir. Bu nedenle sürücü kuvvetin var olmadığı $x_1(t)$ çözümü ile var olduğu $x_k(t)$ çözümünün toplamları da hareket denkleminin bir çözümüdür. Bu çözüm,\n",
    "<br><br>\n",
    "\\begin{align}\n",
    "\\label{eq:gecici1}\n",
    "x(t) &= x_1(t) + x_k(t) \\\\\n",
    "     &= A_{soğ}\\sin \\omega t + A_{es}\\cos \\omega t + \\text{e}^{-\\Gamma t/2}\\big[ A_1\\sin \\omega_1 t + B_1\\cos \\omega_1 t  \\big]\n",
    "\\end{align}\n",
    "<br>\n",
    "olarak yazılabilir. $x(t)$ çözümü sistemin genel çözümü olarak adlandırılabilir. Çünkü sistemin bir serbestlik dereceli hareketinin bütün olası durumlarını kapsar."
   ]
  },
  {
   "cell_type": "markdown",
   "metadata": {},
   "source": [
    "### Durgun durum başlangıç şartı"
   ]
  },
  {
   "cell_type": "markdown",
   "metadata": {},
   "source": [
    "Zayıf sönümlü durum için incelediğimiz salınıcının başlangıçta (t=0) pratik olarak denge konumunda durgun olduğunu kabul edelim.\n",
    "Yani $x(0)=0$ ve $\\dot x(0)=0$ olmalıdır. Bu durumda genel çözüm için aşağıdaki sonuçlara ulaşılır."
   ]
  },
  {
   "cell_type": "code",
   "execution_count": 7,
   "metadata": {
    "ExecuteTime": {
     "end_time": "2019-02-13T11:37:58.209492Z",
     "start_time": "2019-02-13T11:37:58.168086Z"
    },
    "hide_input": true
   },
   "outputs": [
    {
     "data": {
      "text/markdown": [
       "\\begin{align}\n",
       "         \\label{label0424346577319}\n",
       "         x(0) = A_{es} + B_{1} \\nonumber\n",
       "         \\end{align}\n",
       "    "
      ],
      "text/plain": [
       "<IPython.core.display.Markdown object>"
      ]
     },
     "metadata": {},
     "output_type": "display_data"
    },
    {
     "data": {
      "text/markdown": [
       "\\begin{align}\n",
       "         \\label{label0647130850014}\n",
       "         \\dot x(0) = A_{1} \\omega_{1} + A_{sog} \\omega - \\frac{B_{1} \\Gamma}{2} \\nonumber\n",
       "         \\end{align}\n",
       "    "
      ],
      "text/plain": [
       "<IPython.core.display.Markdown object>"
      ]
     },
     "metadata": {},
     "output_type": "display_data"
    }
   ],
   "source": [
    "A_sog, A_es, A_1, B_1, omega, omega_1, Gamma, t = sym.symbols('A_sog, A_es, A_1, B_1, omega, omega_1, Gamma, t', real=True, positive=True)\n",
    "\n",
    "x1 = lambda t: sym.exp(-Gamma*t/2)*(A_1*sym.sin(omega_1*t) + B_1*sym.cos(omega_1*t))\n",
    "xk = lambda t: A_sog*sym.sin(omega*t) + A_es*sym.cos(omega*t)\n",
    "xf = lambda t: x1(t) + xk(t)\n",
    "dxf = lambda t0: sym.diff(xf(t), t).subs({t:t0})\n",
    "printS([r'x(0)', xf(0)])\n",
    "printS([r'\\dot x(0)',dxf(0)])"
   ]
  },
  {
   "cell_type": "markdown",
   "metadata": {},
   "source": [
    "Sistem zayıf sönümlü olduğundan, $\\dot x(0)$'daki $\\Gamma$'lı kısmı ihmal edebiliriz. Bu durumda,"
   ]
  },
  {
   "cell_type": "code",
   "execution_count": 8,
   "metadata": {
    "ExecuteTime": {
     "end_time": "2019-02-13T11:37:58.347633Z",
     "start_time": "2019-02-13T11:37:58.213225Z"
    },
    "hide_input": true,
    "run_control": {
     "marked": false
    }
   },
   "outputs": [
    {
     "data": {
      "text/markdown": [
       "\\begin{align}\n",
       "         \\label{label0372497708065}\n",
       "         \\dot x(0) \\eqsim A_{1} \\omega_{1} + A_{sog} \\omega \\nonumber\n",
       "         \\end{align}\n",
       "    "
      ],
      "text/plain": [
       "<IPython.core.display.Markdown object>"
      ]
     },
     "metadata": {},
     "output_type": "display_data"
    }
   ],
   "source": [
    "printS([r'\\dot x(0)',dxf(0).subs({Gamma:0})], formatS=r'{} \\eqsim {}')"
   ]
  },
  {
   "cell_type": "markdown",
   "metadata": {},
   "source": [
    "olur. Böylece iki sınır şartından ve rezonans civarında $\\omega\\eqsim\\omega_1$ olacağından $B_1 = -A_{es}$ ve $A_1 = -A_{soğ}$ olarak elde edilir. Böylece genel çözüm."
   ]
  },
  {
   "cell_type": "code",
   "execution_count": 9,
   "metadata": {
    "ExecuteTime": {
     "end_time": "2019-02-13T11:37:58.515586Z",
     "start_time": "2019-02-13T11:37:58.351892Z"
    },
    "hide_input": true
   },
   "outputs": [
    {
     "data": {
      "text/markdown": [
       "\\begin{align}\n",
       "         \\label{label0525016342852}\n",
       "         x(t) = A_{es} \\left(\\cos{\\left (\\omega t \\right )} - e^{- \\frac{\\Gamma t}{2}} \\cos{\\left (\\omega_{1} t \\right )}\\right) + A_{sog} \\left(\\sin{\\left (\\omega t \\right )} - e^{- \\frac{\\Gamma t}{2}} \\sin{\\left (\\omega_{1} t \\right )}\\right) \\nonumber\n",
       "         \\end{align}\n",
       "    "
      ],
      "text/plain": [
       "<IPython.core.display.Markdown object>"
      ]
     },
     "metadata": {},
     "output_type": "display_data"
    }
   ],
   "source": [
    "xf0 = xf(t).subs({A_1:-A_sog, B_1:-A_es})\n",
    "xfd = sym.collect(sym.expand(xf0), (A_es, A_sog))\n",
    "printS([\"x(t)\", xfd])"
   ]
  },
  {
   "cell_type": "markdown",
   "metadata": {},
   "source": [
    "halini alır. Çözümün bu halinden bazı ilginç sonuçlar doğar."
   ]
  },
  {
   "cell_type": "markdown",
   "metadata": {},
   "source": [
    "#### Sürücü ve doğal salınım frekansının eşit olması durumu"
   ]
  },
  {
   "cell_type": "markdown",
   "metadata": {},
   "source": [
    "Eğer sürücü frekansı $\\omega$ doğal salınım frekansı $\\omega_1$'e eşit olursa\n",
    "durgun durum başlangıç şartı için aşağıdaki eşitlikler ortaya çıkar."
   ]
  },
  {
   "cell_type": "code",
   "execution_count": 10,
   "metadata": {
    "ExecuteTime": {
     "end_time": "2019-02-13T11:37:58.630641Z",
     "start_time": "2019-02-13T11:37:58.521843Z"
    },
    "hide_input": true,
    "scrolled": true
   },
   "outputs": [
    {
     "data": {
      "text/markdown": [
       "\\begin{align}\n",
       "         \\label{label0821395032202}\n",
       "         x(t) = \\left(1 - e^{- \\frac{\\Gamma t}{2}}\\right) \\left(A_{es} \\cos{\\left (\\omega_{1} t \\right )} + A_{sog} \\sin{\\left (\\omega_{1} t \\right )}\\right) \\nonumber\n",
       "         \\end{align}\n",
       "    "
      ],
      "text/plain": [
       "<IPython.core.display.Markdown object>"
      ]
     },
     "metadata": {},
     "output_type": "display_data"
    },
    {
     "data": {
      "text/markdown": [
       "\\begin{align}\n",
       "         \\label{label00634803476344}\n",
       "         x(t) = \\bigg(1 - e^{- \\frac{\\Gamma t}{2}}\\bigg)~x_k(t) \\nonumber\n",
       "         \\end{align}\n",
       "    "
      ],
      "text/plain": [
       "<IPython.core.display.Markdown object>"
      ]
     },
     "metadata": {},
     "output_type": "display_data"
    }
   ],
   "source": [
    "xfw1 = sym.expand(xfd.subs({omega:omega_1}))\n",
    "xfcol1 = sym.collect(xfw1, (A_es*sym.cos(omega_1*t), A_sog*sym.sin(omega_1*t)))\n",
    "xfcol2 = sym.collect(xfcol1 ,1-sym.exp(-Gamma*t/2))\n",
    "xk2 = sym.simplify(xfcol2/xk(t).subs({omega:omega_1}))\n",
    "\n",
    "printS([\"x(t)\",xfcol2])\n",
    "printS([\"x(t)\", xk2, \"x_k(t)\"], formatS=r'{} = \\bigg({}\\bigg)~{}')"
   ]
  },
  {
   "cell_type": "markdown",
   "metadata": {},
   "source": [
    "Bu eşitliklere göre sistem \"baştan itibaren\" kararlı durumdadır."
   ]
  },
  {
   "cell_type": "markdown",
   "metadata": {},
   "source": [
    "#### Sönümsüz durum ve bitmeyen vurular"
   ]
  },
  {
   "cell_type": "markdown",
   "metadata": {
    "hide_input": true
   },
   "source": [
    "$\\Gamma = 0$ durumunda sönüm terimi $A_{soğ}=0$ olur. Böylece geriye sadece $A_{es}$ kalır ve o da,\n",
    "\\begin{equation}\n",
    "\\label{eq:durumlar2}\n",
    "A_{es} = {F_0/m \\over \\omega_0^2 - \\omega^2}\n",
    "\\end{equation}\n",
    "halini alır. Böylece $x = x_1 + x_k$ genel çözümü,\n",
    "\\begin{equation}\n",
    "\\label{eq:durumlar3}\n",
    "x(t) ={F_0\\over m}{\\cos\\omega t - \\cos\\omega_0 t \\over \\omega_0^2 - \\omega^2}\n",
    "\\end{equation}\n",
    "olur. Bu ifadenin, $A=B\\equiv {F_0/m\\over\\omega_0^2-\\omega^2}$ tanımlarıyla ve biraz da düzenlemeyle,\n",
    "\\begin{equation}\n",
    "\\label{eq:durumlar4}\n",
    "x(t) =A \\cos\\omega t + B \\cos\\omega_0 t\n",
    "\\end{equation}\n",
    "<br>\n",
    "şeklinde yazılabilceği görülür. Rezonans civarında $\\omega$ frekansı $\\omega_0$ frekansına yakın olacağından\n",
    "bu harketi bir <b>vuru</b> olayı gibi de düşünebiliriz. Gerekli matematiksel düzenlemeler yapıldığında bu ifadenin,\n",
    "<br><br>\n",
    "\\begin{equation}\n",
    "\\label{eq:durumlar5}\n",
    "x(t) = A_{kip}(t) \\sin\\omega_{ort} t\n",
    "\\end{equation}\n",
    "<br>\n",
    "şeklinde yazılabileceği görülür. Burada $\\omega_{kip} = (\\omega_0-\\omega)/2$, $\\omega_{ort} = (\\omega_0+\\omega)/2$ ve,\n",
    "<br><br>\n",
    "\\begin{equation}\n",
    "\\label{eq:durumlar6}\n",
    "A_{kip}(t) = {F_0\\over 2 m}{\\sin \\omega_{kip} t\\over \\omega_{ort} \\omega_{kip}}\n",
    "\\end{equation}\n",
    "<br>\n",
    "olur. Sistemin biriken enerjisi ise,\n",
    "<br><br>\n",
    "\\begin{align}\n",
    "\\label{eq:durumlar7}\n",
    "E(t) &= E_0 \\sin^2 \\omega_{kip} t \\\\\n",
    "     &= {E_0\\over 2} (1-\\cos\\omega_{vuru} t)\n",
    "\\end{align}\n",
    "<br>\n",
    "olur. Bu ifadelerden anlaşılacağı üzere $A_{kip}(t)$ genliği $\\omega_{kip}$ frekansıyla sürekli salınır, $E(t)$ ise $\\omega_{vuru}=2\\omega_{kip}$ frekansıyla $E_0$\n",
    "ortalama enerjisi etrafında sıfırdan en büyük değerine kadar salınır.\n",
    "\n",
    "$\\omega=\\omega_0$ yani $\\Delta \\omega = \\omega-\\omega_0 \\rightarrow 0$özel durumunda ise kip genliği,\n",
    "<br><br>\n",
    "\\begin{equation}\n",
    "\\label{eq:durumlar8}\n",
    "A_{kip}(t) = {F_0\\over 2 m}{1\\over \\omega_{ort} } t\n",
    "\\end{equation}\n",
    "<br>\n",
    "halini alır. Bu durum sonsuz vuru periyotlu durum olarak adlandırılır çünkü $A_{kip}$ hiç bir zaman sıfır olmaz ve yeterince beklendiğinde bu genlik sonsuza gider."
   ]
  },
  {
   "cell_type": "markdown",
   "metadata": {},
   "source": [
    "#### Geçici vurular"
   ]
  },
  {
   "cell_type": "code",
   "execution_count": 11,
   "metadata": {
    "ExecuteTime": {
     "end_time": "2019-02-13T11:37:59.005808Z",
     "start_time": "2019-02-13T11:37:58.634361Z"
    },
    "hide_input": true
   },
   "outputs": [
    {
     "data": {
      "image/png": "[encoded data removed]",
      "text/plain": [
       "<Figure size 1008x504 with 1 Axes>"
      ]
     },
     "metadata": {
      "needs_background": "light"
     },
     "output_type": "display_data"
    }
   ],
   "source": [
    "E0 = 1.0 # Durgun durum enerjisi (steady state energy)\n",
    "Gamma = 1.0\n",
    "tau = 1./Gamma\n",
    "omega = 2*np.pi/tau\n",
    "omega1 = omega*2\n",
    "\n",
    "En = lambda t: E0*(1. + np.exp(-Gamma*t) - 2*np.exp(-Gamma*t/2.)*np.cos((omega-omega1)*t)) \n",
    "Enp = lambda t: (1 + np.exp(-Gamma*t/2.))**2.\n",
    "Enm = lambda t: (1 - np.exp(-Gamma*t/2.))**2.\n",
    "Enav = lambda t: 1 + np.exp(-Gamma*t)\n",
    "\n",
    "t = np.linspace(0, 5*tau, 500)\n",
    "\n",
    "plt.figure(figsize=((14, 7)))\n",
    "plt.plot(t, En(t), label=r'$E(t)$')\n",
    "plt.plot(t, Enp(t))\n",
    "plt.plot(t, Enm(t))\n",
    "plt.plot(t, Enav(t), label=r'$E(t)/E_k$')\n",
    "plt.xlabel(r'$t/\\tau$', fontsize=28)\n",
    "plt.ylabel(r'$E(t)$', fontsize=28)\n",
    "plt.grid()\n",
    "plt.legend(loc='best', fontsize=24)\n",
    "plt.show()"
   ]
  },
  {
   "cell_type": "markdown",
   "metadata": {
    "hide_input": true
   },
   "source": [
    "Zayıf sönümlü ve $\\omega$'nın $\\omega_1$'e yakın olduğu durumda biriken enerjinin davranışı yaklaşık olarak,\n",
    "<br>\n",
    "\\begin{equation}\n",
    "\\label{eq:gecici2}\n",
    "E(t) = E_k \\bigg[1 + \\text{e}^{-\\Gamma t} - 2\\text{e}^{-\\Gamma t/2} \\cos \\big((\\omega-\\omega_1)t\\big) \\bigg]\n",
    "\\end{equation}\n",
    "<br><br>\n",
    "ile belirlenir. Burada $E_k$ sistemin kararlı durumdaki enerjisidir. Yukarıdaki şekilden anlaşılacağı üzere,\n",
    "sistemi t=0 anında E(0)=0 enerji değerinden başlatırsak. Sistem birden kararlı duruma geçmeyecektir, çünkü\n",
    "kendi doğal frekansı $\\omega_1$'le salınmak ister. Fakat yeterince süre beklenildiği takdirde $E_k$ enerji değerine\n",
    "ulaşılır ve sistem $\\omega$ sürücü frekansıyla salınmaya başlar."
   ]
  },
  {
   "cell_type": "markdown",
   "metadata": {},
   "source": [
    "## İki serbestlik dereceli sistemlerde rezonanslar"
   ]
  },
  {
   "cell_type": "markdown",
   "metadata": {},
   "source": []
  },
  {
   "cell_type": "markdown",
   "metadata": {},
   "source": []
  },
  {
   "cell_type": "markdown",
   "metadata": {},
   "source": [
    "# Aşağıdaki ifade silinebilir.... veya değiştirilebilir..."
   ]
  },
  {
   "cell_type": "code",
   "execution_count": 12,
   "metadata": {
    "ExecuteTime": {
     "end_time": "2019-02-13T11:37:59.513390Z",
     "start_time": "2019-02-13T11:37:59.010092Z"
    },
    "hide_input": true,
    "scrolled": false
   },
   "outputs": [
    {
     "data": {
      "text/markdown": [
       "\\begin{align}\n",
       "         \\label{label0987803484977}\n",
       "         x{\\left (t \\right )} = C_{1} e^{\\frac{t \\left(- \\Gamma - \\sqrt{\\Gamma^{2} - 4 \\omega_{0}^{2}}\\right)}{2}} + C_{2} e^{\\frac{t \\left(- \\Gamma + \\sqrt{\\Gamma^{2} - 4 \\omega_{0}^{2}}\\right)}{2}} \\nonumber\n",
       "         \\end{align}\n",
       "    "
      ],
      "text/plain": [
       "<IPython.core.display.Markdown object>"
      ]
     },
     "metadata": {},
     "output_type": "display_data"
    }
   ],
   "source": [
    "# neden salınım kısmı bu çözümde ortaya çıkmadı?\n",
    "\n",
    "t, Gamma, omega_0 = sym.symbols('t, Gamma, omega_0')\n",
    "x = sym.Function('x')(t)\n",
    "\n",
    "eq = sym.diff(x, t,t) + Gamma*sym.diff(x, t) + omega_0**2*x\n",
    "sol = sym.dsolve(eq, x)\n",
    "printS([sol])"
   ]
  },
  {
   "cell_type": "code",
   "execution_count": 13,
   "metadata": {
    "ExecuteTime": {
     "end_time": "2019-02-13T11:38:00.037841Z",
     "start_time": "2019-02-13T11:37:59.517337Z"
    },
    "hide_input": false
   },
   "outputs": [
    {
     "data": {
      "text/markdown": [
       "\\begin{align}\n",
       "         \\label{label00231960789594}\n",
       "         \\frac{\\Gamma^{2} P_{0} \\omega^{2}}{\\Gamma^{2} \\omega^{2} + \\left(- \\omega^{2} + \\omega_{0}^{2}\\right)^{2}} - \\frac{P_{0}}{2} \\nonumber\n",
       "         \\end{align}\n",
       "    "
      ],
      "text/plain": [
       "<IPython.core.display.Markdown object>"
      ]
     },
     "metadata": {},
     "output_type": "display_data"
    },
    {
     "data": {
      "text/markdown": [
       "\\begin{align}\n",
       "         \\label{label0413515431926}\n",
       "         - \\frac{\\Gamma}{2} - \\frac{\\sqrt{\\Gamma^{2} + 4 \\omega_{0}^{2}}}{2} \\newline- \\frac{\\Gamma}{2} + \\frac{\\sqrt{\\Gamma^{2} + 4 \\omega_{0}^{2}}}{2} \\newline\\frac{\\Gamma}{2} - \\frac{\\sqrt{\\Gamma^{2} + 4 \\omega_{0}^{2}}}{2} \\newline\\frac{\\Gamma}{2} + \\frac{\\sqrt{\\Gamma^{2} + 4 \\omega_{0}^{2}}}{2} \\newline \\nonumber\n",
       "         \\end{align}\n",
       "    "
      ],
      "text/plain": [
       "<IPython.core.display.Markdown object>"
      ]
     },
     "metadata": {},
     "output_type": "display_data"
    }
   ],
   "source": [
    "P_0, omega, omega_0, Gamma = sym.symbols('P_0, omega, omega_0, Gamma', real=True)\n",
    "\n",
    "eq = P_0*(Gamma*omega)**2/((omega_0**2 - omega**2)**2 + (Gamma*omega)**2) - P_0/2\n",
    "printS([eq])\n",
    "printS(sym.solve(eq, omega), formatS=ur'{} \\newline' *4)"
   ]
  },
  {
   "cell_type": "markdown",
   "metadata": {
    "hide_input": true
   },
   "source": [
    "## Kaynaklar\n",
    "\n",
    "Düzenlenecek... Düzenlenecek... Düzenlenecek...\n",
    "\n",
    "1. https://www.britannica.com/science/natural-vibration\n",
    "2. [Deep Interior of the Earth, J.A. Jacobs](https://books.google.com.tr/books?id=Pmh-j_EoDqMC&lpg=PA29&ots=YhFCrrb01h&dq=earth%200t2%20vibration&hl=tr&pg=PA30#v=onepage&q=earth%200t2%20vibration&f=false)\n",
    "\n",
    "Damped osilatör, https://commons.wikimedia.org/wiki/File:Mplwp_damped_oscillations.svg"
   ]
  },
  {
   "cell_type": "markdown",
   "metadata": {
    "hide_input": true
   },
   "source": []
  }
 ],
 "metadata": {
  "hide_input": false,
  "kernelspec": {
   "display_name": "Python 2",
   "language": "python",
   "name": "python2"
  },
  "language_info": {
   "codemirror_mode": {
    "name": "ipython",
    "version": 2
   },
   "file_extension": ".py",
   "mimetype": "text/x-python",
   "name": "python",
   "nbconvert_exporter": "python",
   "pygments_lexer": "ipython2",
   "version": "2.7.15rc1"
  },
  "toc": {
   "base_numbering": 1,
   "nav_menu": {
    "height": "263px",
    "width": "349px"
   },
   "number_sections": true,
   "sideBar": true,
   "skip_h1_title": false,
   "title_cell": "İçindekiler",
   "title_sidebar": "Contents",
   "toc_cell": true,
   "toc_position": {
    "height": "921px",
    "left": "0px",
    "right": "793px",
    "top": "91px",
    "width": "133px"
   },
   "toc_section_display": "block",
   "toc_window_display": true
  },
  "varInspector": {
   "cols": {
    "lenName": 16,
    "lenType": 16,
    "lenVar": 40
   },
   "kernels_config": {
    "python": {
     "delete_cmd_postfix": "",
     "delete_cmd_prefix": "del ",
     "library": "var_list.py",
     "varRefreshCmd": "print(var_dic_list())"
    },
    "r": {
     "delete_cmd_postfix": ") ",
     "delete_cmd_prefix": "rm(",
     "library": "var_list.r",
     "varRefreshCmd": "cat(var_dic_list()) "
    }
   },
   "types_to_exclude": [
    "module",
    "function",
    "builtin_function_or_method",
    "instance",
    "_Feature"
   ],
   "window_display": false
  },
  "widgets": {
   "application/vnd.jupyter.widget-state+json": {
    "state": {},
    "version_major": 2,
    "version_minor": 0
   }
  }
 },
 "nbformat": 4,
 "nbformat_minor": 2
}
