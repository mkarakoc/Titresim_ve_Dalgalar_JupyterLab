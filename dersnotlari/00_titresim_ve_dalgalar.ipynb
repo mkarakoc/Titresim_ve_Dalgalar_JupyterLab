{
 "cells": [
  {
   "cell_type": "markdown",
   "metadata": {},
   "source": [
    "<br>\n",
    "<b>\n",
    "<font size=\"7\" face='bold' color=\"blue\">TİTREŞİM ve DALGALAR / FİZ220 </font> \n",
    "<br><br>\n",
    "<font size=\"6\"> Doç. Dr. Mesut Karakoç </font>\n",
    "</b>\n",
    "<br><br>\n",
    "<font size=\"5\" color=\"black\"> \n",
    "Akdeniz Üniversitesi, Fen Fakültesi, Fizik Bölümü <br>\n",
    "    \n",
    "2018 - 2019 Bahar Dönemi \n",
    "</font>\n",
    "<br><br>\n",
    "\n",
    "[//]: # (Resim aşağıdaki linkten alınmıştır.)\n",
    "[//]: # (https://upload.wikimedia.org/wikipedia/commons/1/1e/2010_mavericks_competition.jpg)\n",
    "\n",
    "<img width=700 src='./sekiller/2010_mavericks_competition.jpg'>\n"
   ]
  },
  {
   "cell_type": "markdown",
   "metadata": {},
   "source": [
    "# Ders Bilgileri\n",
    "\n",
    "## Haftalık Ders Programı\n",
    "\n",
    "Gün, Saat, Derslik:\n",
    "- Pazartesi, 10:30-12:20, D5\n",
    "- Perşembe, 10:30-12:20, D5\n",
    "- Cuma, 14:30-16:20, D5\n",
    "\n",
    "## Ders Başarı Puanı Dağılımları\n",
    "1. Ödev, %20\n",
    "2. Ara Sınav, %30\n",
    "3. Yarıyıl Sonu Sınavı, %50\n",
    "\n",
    "Lisans Eğitim-Öğretim ve Sınav Yönetmeliğine aşağıdaki bağlantıdan ulaşılabilir.  \n",
    "http://oidb.akdeniz.edu.tr/yonetmelik-ve-yonergeler/\n",
    "\n",
    "## Kaynak Kitaplar\n",
    "1. **Dalgalar**, Frank S. Crawford jr., Berkeley Fizik Dersleri 3. Cilt, Bilim Yayınevi.\n",
    "2. **Titreşimler ve Dalgalar**, George C. King, Nobel Akademik Yayıncılık.\n",
    "3. **Titreşimler ve Dalgalar**, A.P. French, Aktif Yayın Evi.\n",
    "4. **Titreşimler ve Dalgalar**, Gökhan Budak, Yüksel Özdemir, , Nobel Akademik Yayıncılık.\n",
    "\n",
    "## İnternet Kaynakları\n",
    "1. [8.03 - MIT Physics III: Vibrations and Waves]( https://www.youtube.com/playlist?list=PLyQSN7X0ro22WeXM2QCKJm2NP_xHpGV89), Walter Lewin'in İngilizce video dersleri.\n",
    "2. [Dr. Mustafa POLAT'ın Titreşim ve Dalgar Ders Notu.](http://yunus.hacettepe.edu.tr/~polat/FIZ217-DERS-NOTLARI.pdf)\n",
    "3. [Dr. Hüseyin Çelik'in Titreşim ve Dalgar Ders Notu.](http://yunus.hacettepe.edu.tr/~hucelik/fiz217/)\n",
    "\n",
    "## Benzetimler (Simülasyonlar/Animasyonlar)\n",
    "1. [PHET animasyonları](https://phet.colorado.edu/en/simulations/category/new)\n",
    "2. [Fizik Animasyonları: Walter Fendt](https://www.walter-fendt.de/html5/phen/)\n",
    "3. [Daniel A. Russell - wave demoları](https://www.acs.psu.edu/drussell/demos.html)"
   ]
  },
  {
   "cell_type": "markdown",
   "metadata": {},
   "source": [
    "# Ders İçeriğinin Ana Bölümleri\n",
    "1. BASİT SİSTEMLERİN SERBEST SALINIMLARI\n",
    "2. ÇOK SERBESTLİK DERECELİ SİSTEMLERİN SERBEST SALIMLARI\n",
    "3. ZORLA TİTREŞİMLER\n",
    "4. İLERLEYEN DALGALAR\n",
    "5. YANSIMA\n",
    "6. MODÜLASYONLAR,ATMALAR VE DALGA PAKETLERİ\n",
    "7. İKİ VE ÜÇ BOYUTLU DALGALAR\n",
    "8. KUTUPLANMA\n",
    "9. GİRİŞİM VE KIRINIM\n",
    "\n",
    "**Not:** Bu içerik gerekli görüldükçe güncellenebilir."
   ]
  },
  {
   "cell_type": "markdown",
   "metadata": {},
   "source": [
    "# Ders notlarının yazımında kullanılan araçlar\n",
    "\n",
    "1. [Jupyter Notebook (Defteri) ](http://jupyter.org)\n",
    "2. [Örnek Jupyter Notebookları](https://nbviewer.jupyter.org/github/ipython/ipython/blob/4.0.x/examples/IPython%20Kernel/Index.ipynb)\n",
    "3. [Etkileşimli nesneler için: ipywdigets](http://minrk-ipywidgets.readthedocs.io/en/latest/examples/Widget%20Events.html)\n",
    "4. [Markdown dili](https://daringfireball.net/projects/markdown/)\n",
    "5. [Python dili](https://www.python.org)"
   ]
  },
  {
   "cell_type": "code",
   "execution_count": 1,
   "metadata": {
    "ExecuteTime": {
     "end_time": "2019-02-18T09:58:32.983574Z",
     "start_time": "2019-02-18T09:58:32.572375Z"
    },
    "hide_input": true,
    "scrolled": true
   },
   "outputs": [
    {
     "data": {
      "text/html": [
       "\n",
       "    <!-- ******************************************************** -->\n",
       "    <!-- **************** Kod hücrelerini sakla ***************** -->\n",
       "    <!-- ******************************************************** -->\n",
       "    <!-- https://stackoverflow.com/questions/31517194/how-to-hide-one-specific-cell-input-or-output-in-ipython-notebook -->\n",
       "    <script> \n",
       "    code_show=true; \n",
       "    function code_toggle() {\n",
       "        if (code_show){$('div.input').hide();} else {$('div.input').show();}\n",
       "        if (code_show){$('div.cell.code_cell.rendered.selected div.input').hide();} \n",
       "        else          {$('div.cell.code_cell.rendered.selected div.input').hide();}\n",
       "        code_show = !code_show }\n",
       "    $(document).ready(code_toggle);\n",
       "    </script>\n",
       "    \n",
       "    <a href=\"javascript:code_toggle()\" style=\"text-decoration:none\" \n",
       "    class=\"btn btn-default btn-danger btn-large fa fa-toggle-on\">\n",
       "    &nbsp;&nbsp;&nbsp; Kod hücrelerini, KAPAT / AÇ! </a>\n",
       "    <!-- ######################################################### -->\n",
       "    <!-- ######################################################### -->\n",
       "    \n",
       "    <!-- ********************************************************* -->\n",
       "    <!-- ****** Trusted Notebookları başlangıçta çalıştır   ****** -->\n",
       "    <!-- ****** jupyter trust *.ipynb                       ****** -->\n",
       "    <!-- ****** ile bütün notebooklar güvenilir yapılabilir.****** -->\n",
       "    <!-- ********************************************************* -->\n",
       "    <!--https://stackoverflow.com/questions/31984196/ipython-notebook-run-all-cells-on-open -->\n",
       "    <script>\n",
       "        // AUTORUN ALL CELLS ON NOTEBOOK-LOAD!\n",
       "        require(\n",
       "            ['base/js/namespace', 'jquery'], \n",
       "            function(jupyter, $) {\n",
       "                $(jupyter.events).on(\"kernel_ready.Kernel\", function () {\n",
       "                    console.log(\"Auto-running all cells-below...\");\n",
       "                    jupyter.actions.call('jupyter-notebook:run-all-cells-below');\n",
       "                 // jupyter.actions.call('jupyter-notebook:save-notebook');\n",
       "                });\n",
       "            }\n",
       "        );\n",
       "    </script>\n",
       "    <!-- ######################################################### -->\n",
       "    <!-- ######################################################### -->\n",
       "    \n",
       "    <!-- ******************************************************** -->\n",
       "    <!-- HTML için gerekli stilleri buradan ayarla                -->\n",
       "    <!-- Bu hücreyi nbextension'dan 'hide input' kullanarak sakla -->\n",
       "    <!-- ******************************************************** -->\n",
       "    \n",
       "    <style>\n",
       "    table.a, tr.a {text-align: left !important; \n",
       "             font-size: 20px;}\n",
       "    \n",
       "    table.b {text-align: left !important; \n",
       "             font-size: 16px;\n",
       "             margin: 0;}\n",
       "    \n",
       "    tr.b {text-align: left !important;}\n",
       "    \n",
       "    td.b {text-align: left !important;}\n",
       "    \n",
       "    li {text-align: left;}\n",
       "    </style>\n",
       "    <!-- ######################################################### -->\n",
       "    <!-- ######################################################### -->\n",
       "    \n",
       "    <!-- ********************************************************* -->\n",
       "    <!-- ****** Sayfa yönlendirme butonları                 ****** -->\n",
       "    <!-- ********************************************************* -->\n",
       "    &nbsp;&nbsp;&nbsp;&nbsp;\n",
       "    <tr align='left'>\n",
       "        <th>\n",
       "         <a href=\"./03_titresim_ve_dalgalar.ipynb\" target=\"_blank\">\n",
       "           <button>\n",
       "           <i class=\"fa fa-arrow-circle-left fa-2x\" style=\"color: firebrick ; vertical-align: middle\"></i> Önceki Sayfa\n",
       "           </button> \n",
       "         </a>\n",
       "        </th>\n",
       "        \n",
       "        <th>&nbsp;&nbsp;&nbsp;&nbsp;&nbsp;&nbsp;&nbsp;&nbsp;&nbsp;&nbsp;</th>    \n",
       "        \n",
       "        <th>\n",
       "         <a href=\"./00_titresim_ve_dalgalar.ipynb\" target=\"_blank\">\n",
       "           <button>\n",
       "           <i class=\"fa fa-home fa-2x\" style=\"color: firebrick ; vertical-align: middle\"></i> Ana Sayfa\n",
       "           </button> \n",
       "         </a>\n",
       "        </th>\n",
       "        \n",
       "        <th>&nbsp;&nbsp;&nbsp;&nbsp;&nbsp;&nbsp;&nbsp;&nbsp;&nbsp;&nbsp;</th>\n",
       "        \n",
       "        <th>\n",
       "         <a href=\"./01a_titresim_ve_dalgalar.ipynb\" target=\"_blank\">\n",
       "           <button>\n",
       "           Sonraki Sayfa <i class=\"fa fa-arrow-circle-right fa-2x\" style=\"color: firebrick ; vertical-align: middle\"></i>\n",
       "           </button>\n",
       "         </a>\n",
       "        </th>\n",
       "    </tr>\n",
       "    <!-- ######################################################### -->\n",
       "    <!-- ######################################################### -->\n",
       "    "
      ],
      "text/plain": [
       "<IPython.core.display.HTML object>"
      ]
     },
     "metadata": {},
     "output_type": "display_data"
    }
   ],
   "source": [
    "# ****************************************************\n",
    "# Bu Jupyter notebookta kullanılan ortak kütüphaneler.\n",
    "# ****************************************************\n",
    "%matplotlib inline\n",
    "from kutuphaneler import *\n",
    "\n",
    "ortak = \"_titresim_ve_dalgalar.ipynb\"\n",
    "prevp, homep, nextp = \"./03\", \"./00\", \"./01a\"\n",
    "course_links(prevp+ortak, homep+ortak, nextp+ortak)"
   ]
  },
  {
   "cell_type": "code",
   "execution_count": null,
   "metadata": {},
   "outputs": [],
   "source": []
  }
 ],
 "metadata": {
  "hide_input": false,
  "kernelspec": {
   "display_name": "Python 2",
   "language": "python2",
   "name": "python2"
  },
  "language_info": {
   "codemirror_mode": {
    "name": "ipython",
    "version": 2
   },
   "file_extension": ".py",
   "mimetype": "text/x-python",
   "name": "python",
   "nbconvert_exporter": "python",
   "pygments_lexer": "ipython2",
   "version": "2.7.15rc1"
  },
  "toc": {
   "base_numbering": 1,
   "collapse_to_match_collapsible_headings": false,
   "colors": {
    "hover_highlight": "#DAA520",
    "running_highlight": "#FF0000",
    "selected_highlight": "#FFD700"
   },
   "moveMenuLeft": true,
   "nav_menu": {
    "height": "48px",
    "width": "252px"
   },
   "navigate_menu": true,
   "number_sections": true,
   "sideBar": true,
   "skip_h1_title": false,
   "threshold": "5",
   "title_cell": "İçindekiler",
   "title_sidebar": "Contents",
   "toc_cell": false,
   "toc_position": {},
   "toc_section_display": "block",
   "toc_window_display": false
  },
  "varInspector": {
   "cols": {
    "lenName": 16,
    "lenType": 16,
    "lenVar": 40
   },
   "kernels_config": {
    "python": {
     "delete_cmd_postfix": "",
     "delete_cmd_prefix": "del ",
     "library": "var_list.py",
     "varRefreshCmd": "print(var_dic_list())"
    },
    "r": {
     "delete_cmd_postfix": ") ",
     "delete_cmd_prefix": "rm(",
     "library": "var_list.r",
     "varRefreshCmd": "cat(var_dic_list()) "
    }
   },
   "types_to_exclude": [
    "module",
    "function",
    "builtin_function_or_method",
    "instance",
    "_Feature"
   ],
   "window_display": false
  }
 },
 "nbformat": 4,
 "nbformat_minor": 2
}
